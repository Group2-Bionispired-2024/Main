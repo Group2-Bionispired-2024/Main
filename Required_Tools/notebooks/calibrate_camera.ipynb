{
 "cells": [
  {
   "cell_type": "markdown",
   "metadata": {},
   "source": [
    "# Calibrate camera colors"
   ]
  },
  {
   "cell_type": "code",
   "execution_count": 4,
   "metadata": {},
   "outputs": [],
   "source": [
    "import camera_tools as ct"
   ]
  },
  {
   "cell_type": "markdown",
   "metadata": {},
   "source": [
    "The following will open three windows. Adjust the sliders in the \"Trackbars window until only the Lego pieces are white. We are using the \"LAB\" color space. The \"L\" sliders are for luminosity, so keep these close to 0 and 255 respectively. The \"A\" and \"B\" sliders are for color components. Find the range that corresponds to green for your specific camera. When you're done, press the \"ESC\" key, and the function will return the values."
   ]
  },
  {
   "cell_type": "code",
   "execution_count": 5,
   "metadata": {},
   "outputs": [
    {
     "name": "stdout",
     "output_type": "stream",
     "text": [
      "[ 58  86 120]\n",
      "[144 111 183]\n"
     ]
    }
   ],
   "source": [
    "low_green, high_green = ct.colorpicker()\n",
    "print(low_green)\n",
    "print(high_green)"
   ]
  },
  {
   "cell_type": "markdown",
   "metadata": {},
   "source": [
    "Test to see how the new values work:"
   ]
  },
  {
   "cell_type": "code",
   "execution_count": 6,
   "metadata": {},
   "outputs": [],
   "source": [
    "cam = ct.prepare_camera()\n",
    "\n",
    "ct.show_camera(cam, low_green, high_green)"
   ]
  }
 ],
 "metadata": {
  "kernelspec": {
   "display_name": "biocontrol",
   "language": "python",
   "name": "python3"
  },
  "language_info": {
   "codemirror_mode": {
    "name": "ipython",
    "version": 3
   },
   "file_extension": ".py",
   "mimetype": "text/x-python",
   "name": "python",
   "nbconvert_exporter": "python",
   "pygments_lexer": "ipython3",
   "version": "3.11.5"
  },
  "vscode": {
   "interpreter": {
    "hash": "b800893415a0c70bc99a913a2794f947c932bde76f0462c9534c0a3d74ebcce5"
   }
  }
 },
 "nbformat": 4,
 "nbformat_minor": 2
}
