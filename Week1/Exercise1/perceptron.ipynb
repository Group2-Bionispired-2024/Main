{
 "cells": [
  {
   "cell_type": "markdown",
   "metadata": {},
   "source": [
    "# Week 1 Exercise 1.1- Group 2\n",
    "**s232161-Xiaoyu Yan 25%**\\\n",
    "**s Marcel Zelent 25%**\\\n",
    "**s Linna Li 25%**\\\n",
    "**s Nicolaus 25%**"
   ]
  },
  {
   "cell_type": "code",
   "execution_count": 167,
   "metadata": {},
   "outputs": [],
   "source": [
    "import numpy as np\n",
    "from activation import ActivationFunction\n",
    "import matplotlib.pyplot as plt"
   ]
  },
  {
   "cell_type": "markdown",
   "metadata": {},
   "source": [
    "### 1.1-1\n",
    "The code below is about Sign Activation function. The gradient will not be defined for this activation function"
   ]
  },
  {
   "cell_type": "code",
   "execution_count": 168,
   "metadata": {},
   "outputs": [],
   "source": [
    "class SignActivation(ActivationFunction):\n",
    "    \"\"\" \n",
    "        Sign activation: `f(x) = 1 if x > 0, 0 if x <= 0`\n",
    "    \"\"\"\n",
    "    def forward(self, x):\n",
    "        \"\"\"\n",
    "         This is the output function.\n",
    "         TODO: Define the correct return function, given input `x`\n",
    "        \"\"\"\n",
    "        if x > 0:\n",
    "            return 1\n",
    "        else:\n",
    "            return 0   \n",
    "      \n",
    "    def gradient(self, x):\n",
    "        \"\"\"\n",
    "            Function derivative.\n",
    "            Define the correct return value (derivative), given input `x`\n",
    "        \"\"\"\n",
    "        return None\n"
   ]
  },
  {
   "cell_type": "markdown",
   "metadata": {},
   "source": [
    "The code below is used to test the sign activation function and we can find that the answer is correct obviously."
   ]
  },
  {
   "cell_type": "code",
   "execution_count": 169,
   "metadata": {},
   "outputs": [
    {
     "name": "stdout",
     "output_type": "stream",
     "text": [
      "1\n",
      "0\n"
     ]
    }
   ],
   "source": [
    "## TODO Test your activation function\n",
    "a = SignActivation()\n",
    "print(a.forward(2))\n",
    "print(a.forward(0))"
   ]
  },
  {
   "cell_type": "markdown",
   "metadata": {},
   "source": [
    "### 1.1-2\n",
    "The code below is about Perceptron. The initial weights are generated randomly by following Gaussion distribution with mean value as 0 and standard deviation as 1. Besides, we took -1 as bias. Function activation and output are two steps of generating the predict results and function prediction is the combination of them."
   ]
  },
  {
   "cell_type": "code",
   "execution_count": 170,
   "metadata": {},
   "outputs": [],
   "source": [
    "class Perceptron:\n",
    "    \"\"\" \n",
    "      Perceptron neuron model\n",
    "      Parameters\n",
    "      ----------\n",
    "      n_inputs : int\n",
    "         Number of inputs\n",
    "      act_f : Subclass of `ActivationFunction`\n",
    "         Activation function\n",
    "    \"\"\"\n",
    "    def __init__(self, n_inputs, act_f):\n",
    "        \"\"\"\n",
    "         Perceptron class initialization\n",
    "         TODO: Write the code to initialize weights and save the given activation function\n",
    "        \"\"\"\n",
    "        if not isinstance(act_f, type) or not issubclass(act_f, ActivationFunction):\n",
    "            raise TypeError('act_f has to be a subclass of ActivationFunction (not a class instance).')\n",
    "        # weights\n",
    "        self.w = np.random.normal(0, 1, (n_inputs+1,))\n",
    "        # activation function\n",
    "        self.f = act_f()\n",
    "        # set random bias\n",
    "        self.bias = -1\n",
    "\n",
    "        if self.f is not None and not isinstance(self.f, ActivationFunction):\n",
    "            raise TypeError(\"self.f should be a class instance.\")\n",
    "\n",
    "    def activation(self, x):\n",
    "        \"\"\"\n",
    "         It computes the activation `a` given an input `x`\n",
    "         TODO: Fill in the function to provide the correct output\n",
    "         NB: Remember the bias\n",
    "        \"\"\"\n",
    "        a = np.dot(self.w[1:].T, x) + self.bias*self.w[0]\n",
    "        return a\n",
    "\n",
    "    def output(self, a):\n",
    "        \"\"\"\n",
    "         It computes the neuron output `y`, given the activation `a`\n",
    "         TODO: Fill in the function to provide the correct output\n",
    "        \"\"\"\n",
    "        y = self.f.forward(a)\n",
    "        return y\n",
    "\n",
    "    def predict(self, x):\n",
    "        \"\"\"\n",
    "         It computes the neuron output `y`, given the input `x`\n",
    "         TODO: Fill in the function to provide the correct output\n",
    "        \"\"\"\n",
    "        a = self.activation(x)\n",
    "        y_out = self.output(a)\n",
    "        return y_out\n",
    "\n",
    "    def gradient(self, a):\n",
    "        \"\"\"\n",
    "         It computes the gradient of the activation function, given the activation `a`\n",
    "        \"\"\"\n",
    "        return self.f.gradient(a)"
   ]
  },
  {
   "cell_type": "code",
   "execution_count": 171,
   "metadata": {},
   "outputs": [
    {
     "name": "stdout",
     "output_type": "stream",
     "text": [
      "[[0.5 0.5]\n",
      " [1.  0. ]\n",
      " [2.  3. ]\n",
      " [0.  1. ]\n",
      " [0.  2. ]\n",
      " [1.  2.2]]\n",
      "[0. 0. 0. 1. 1. 1.]\n"
     ]
    }
   ],
   "source": [
    "data = np.array( [ [0.5, 0.5, 0], [1.0, 0, 0], [2.0, 3.0, 0], [0, 1.0, 1], [0, 2.0, 1], [1.0, 2.2, 1] ] )\n",
    "xdata = data[:,:2]\n",
    "ydata = data[:,2]\n",
    "print(xdata)\n",
    "print(ydata)   "
   ]
  },
  {
   "cell_type": "markdown",
   "metadata": {},
   "source": [
    "Since \"act_f\" is supposed to be a subclass of SignActivation, we define a subclass of SignActivation named Act_f."
   ]
  },
  {
   "cell_type": "code",
   "execution_count": 172,
   "metadata": {},
   "outputs": [],
   "source": [
    "class Act_f(SignActivation):\n",
    "    def __init__(self) -> None:\n",
    "        super().__init__()"
   ]
  },
  {
   "cell_type": "markdown",
   "metadata": {},
   "source": [
    "### 1.1-3\n",
    "The code below is used to test the output of the initial Perceptron class. The correct answer shown above should be [0, 0, 0, 1, 1, 1]. For randomly given weights and bias, The answers for now are wrong."
   ]
  },
  {
   "cell_type": "code",
   "execution_count": 173,
   "metadata": {},
   "outputs": [
    {
     "name": "stdout",
     "output_type": "stream",
     "text": [
      "0\n",
      "0\n",
      "0\n",
      "0\n",
      "0\n",
      "0\n"
     ]
    }
   ],
   "source": [
    "## TODO Test perceptron initialization\n",
    "act_f = Act_f()\n",
    "p = Perceptron(2, SignActivation)\n",
    "for i in range(6):\n",
    "    print(p.predict(xdata[i,:]) )"
   ]
  },
  {
   "cell_type": "markdown",
   "metadata": {},
   "source": [
    "### 1.1-4\n",
    "The code below is a function used for neurons to learn the correct weights. The weigth update equation is as below:\n",
    "$$w_i(k+1)=w_i(k)+\\eta(t_j-y_j)x_{ji}$$\n",
    "From the equation we can find that when the predict answer is correct for all xdata, $(t_j-y_j)$ will be 0 and the weights will not change anymore."
   ]
  },
  {
   "cell_type": "code",
   "execution_count": 174,
   "metadata": {},
   "outputs": [],
   "source": [
    "def learning(w_new, p, temp, xdata, ydata, lr):\n",
    "    epoch = 0\n",
    "    while True:\n",
    "        temp = p.w\n",
    "        for i in range(6):\n",
    "            w_new = p.w + lr*(ydata[i] - p.predict(xdata[i,:]))*np.append(p.bias, xdata[i,:])\n",
    "            p.w = w_new\n",
    "        epoch = epoch + 1\n",
    "        if (w_new == temp).all() == True:\n",
    "            print(epoch)\n",
    "            print(p.w)\n",
    "            break"
   ]
  },
  {
   "cell_type": "markdown",
   "metadata": {},
   "source": [
    "Take learning rate as 10e-3 as required first and the result is shown below."
   ]
  },
  {
   "cell_type": "code",
   "execution_count": 175,
   "metadata": {},
   "outputs": [
    {
     "name": "stdout",
     "output_type": "stream",
     "text": [
      "68\n",
      "[ 0.6897212  -0.71084219  0.68974437]\n",
      "0\n",
      "0\n",
      "0\n",
      "1\n",
      "1\n",
      "1\n"
     ]
    }
   ],
   "source": [
    "lr = 10e-3\n",
    "w_new = [0, 0]\n",
    "temp = p.w\n",
    "learning(w_new, p, temp, xdata, ydata, lr)\n",
    "for i in range(6):\n",
    "    print(p.predict(xdata[i,:]) )"
   ]
  },
  {
   "cell_type": "markdown",
   "metadata": {},
   "source": [
    "### 1.1-5\n",
    "We try to give different bias and learning rate to test the number of epoches. This classification problems is in two dimension which means we need to find a line to divide two parts of points. So if we choose some ridiculous initial weights will make the number of epoches larger. Since it is easy to find a line to classify those 6 points, larger learning rate and proper bias can spend less time to find the correct line. Obviously, the final weights are not same. Besides, the answers we predict are correct."
   ]
  },
  {
   "cell_type": "code",
   "execution_count": 176,
   "metadata": {},
   "outputs": [
    {
     "name": "stdout",
     "output_type": "stream",
     "text": [
      "4\n",
      "[ 0.2897212  -0.91084219  0.68974437]\n",
      "0\n",
      "0\n",
      "0\n",
      "1\n",
      "1\n",
      "1\n"
     ]
    }
   ],
   "source": [
    "p.bias = -2\n",
    "lr = 0.1\n",
    "w_new = [0, 0]\n",
    "temp = p.w\n",
    "learning(w_new, p, temp, xdata, ydata, lr)\n",
    "for i in range(6):\n",
    "    print(p.predict(xdata[i,:]) )"
   ]
  },
  {
   "cell_type": "code",
   "execution_count": 177,
   "metadata": {},
   "outputs": [
    {
     "name": "stdout",
     "output_type": "stream",
     "text": [
      "7\n",
      "[ 2.89721202e-01 -5.00910842e+02  2.40689744e+02]\n",
      "0\n",
      "0\n",
      "0\n",
      "1\n",
      "1\n",
      "1\n"
     ]
    }
   ],
   "source": [
    "p.bias = 1\n",
    "lr = 100\n",
    "w_new = [0, 0]\n",
    "temp = p.w\n",
    "learning(w_new, p, temp, xdata, ydata, lr)\n",
    "for i in range(6):\n",
    "    print(p.predict(xdata[i,:]) )"
   ]
  },
  {
   "cell_type": "markdown",
   "metadata": {},
   "source": [
    "### 1.1-6\n"
   ]
  },
  {
   "cell_type": "code",
   "execution_count": 180,
   "metadata": {},
   "outputs": [
    {
     "data": {
      "image/png": "[encoded data removed]",
      "text/plain": [
       "<Figure size 640x480 with 1 Axes>"
      ]
     },
     "metadata": {},
     "output_type": "display_data"
    }
   ],
   "source": [
    "fig, ax = plt.subplots()\n",
    "ax.scatter(xdata[0:3, 0], xdata[0:3, 1], label='part 1')\n",
    "ax.scatter(xdata[3:6, 0], xdata[3:6, 1], label='part 2')\n",
    "x=np.linspace(0, 2, 100)\n",
    "y = -(p.w[1]/p.w[2])*x-p.bias*p.w[0]/p.w[2]\n",
    "ax.plot(x, y, label='line', color='black', linestyle='--')\n",
    "ax.set_xlabel('x1')\n",
    "ax.set_ylabel('x2')\n",
    "ax.legend()\n",
    "plt.show()"
   ]
  }
 ],
 "metadata": {
  "kernelspec": {
   "display_name": "Python 3",
   "language": "python",
   "name": "python3"
  },
  "language_info": {
   "codemirror_mode": {
    "name": "ipython",
    "version": 3
   },
   "file_extension": ".py",
   "mimetype": "text/x-python",
   "name": "python",
   "nbconvert_exporter": "python",
   "pygments_lexer": "ipython3",
   "version": "3.12.0"
  }
 },
 "nbformat": 4,
 "nbformat_minor": 2
}
