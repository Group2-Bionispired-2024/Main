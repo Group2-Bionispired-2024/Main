{
 "cells": [
  {
   "cell_type": "code",
   "execution_count": 162,
   "id": "80c5863b",
   "metadata": {},
   "outputs": [],
   "source": [
    "import numpy as np\n",
    "import csv\n",
    "import pandas as pd\n",
    "import os\n",
    "import torch\n",
    "import matplotlib.pyplot as plt"
   ]
  },
  {
   "cell_type": "code",
   "execution_count": 163,
   "id": "fa93fce4",
   "metadata": {},
   "outputs": [],
   "source": [
    "import camera_tools as ct"
   ]
  },
  {
   "cell_type": "code",
   "execution_count": 164,
   "id": "e74871f9",
   "metadata": {},
   "outputs": [
    {
     "name": "stdout",
     "output_type": "stream",
     "text": [
      "[ 55  82 135]\n",
      "[135  97 255]\n"
     ]
    }
   ],
   "source": [
    "#Calibrate the camera to detect green box, if you haven't done this calibration before\n",
    "low_green, high_green = ct.colorpicker()\n",
    "print(low_green)\n",
    "print(high_green)"
   ]
  },
  {
   "cell_type": "code",
   "execution_count": null,
   "id": "e6e572fa",
   "metadata": {},
   "outputs": [],
   "source": [
    "low_red, high_red = ct.colorpicker()\n",
    "print(low_red)\n",
    "print(high_red)d"
   ]
  },
  {
   "cell_type": "code",
   "execution_count": 232,
   "id": "4a0e3103",
   "metadata": {},
   "outputs": [],
   "source": [
    "#Check whether the camera detects the green object properly\n",
    "cam = ct.prepare_camera()\n",
    "img = ct.capture_image(cam)\n",
    "ct.show_camera(cam, low_green, high_green)"
   ]
  },
  {
   "cell_type": "code",
   "execution_count": null,
   "id": "19c6b967",
   "metadata": {},
   "outputs": [],
   "source": [
    "#Check whether the camera detects the green object properly\n",
    "cam_red = ct.prepare_camera()\n",
    "img_red = ct.capture_image(cam_red)\n",
    "ct.show_camera(cam, low_red, high_red)"
   ]
  },
  {
   "cell_type": "code",
   "execution_count": 166,
   "id": "b7e258dc",
   "metadata": {},
   "outputs": [
    {
     "name": "stdout",
     "output_type": "stream",
     "text": [
      "Dongle already connected\n",
      "setup done\n"
     ]
    },
    {
     "data": {
      "text/plain": [
       "True"
      ]
     },
     "execution_count": 166,
     "metadata": {},
     "output_type": "execute_result"
    }
   ],
   "source": [
    "from FableAPI.fable_init import api\n",
    "api.setup(blocking=True)"
   ]
  },
  {
   "cell_type": "code",
   "execution_count": 231,
   "id": "d70b71f2",
   "metadata": {},
   "outputs": [
    {
     "name": "stdout",
     "output_type": "stream",
     "text": [
      "Module IDs:  ['5YA ']\n",
      "Battery level: 41.0 %\n"
     ]
    }
   ],
   "source": [
    "moduleids = api.discoverModules()\n",
    "print(\"Module IDs: \", moduleids)\n",
    "moduleID = moduleids[0]\n",
    "print(\"Battery level:\",api.getBattery(moduleID),\"%\")"
   ]
  },
  {
   "cell_type": "code",
   "execution_count": 233,
   "id": "b361e0eb",
   "metadata": {},
   "outputs": [],
   "source": [
    "#Create two files (if they were not already created) to collect data.\n",
    "if (not os.path.exists(\"xycoords_2.csv\")):\n",
    "    f = open('xycoords_2.csv', 'w')\n",
    "    with f:\n",
    "        writer = csv.writer(f)\n",
    "        writer.writerows([[\"X\",\"Y\"]])\n",
    "    f.close()\n",
    "if (not os.path.exists(\"angles_2.csv\")):\n",
    "    f = open('angles_2.csv','w')\n",
    "    with f:\n",
    "        writer = csv.writer(f)\n",
    "        writer.writerows([[\"Y_angle\"]])\n",
    "    f.close()"
   ]
  },
  {
   "cell_type": "code",
   "execution_count": 234,
   "id": "53b78dcf",
   "metadata": {},
   "outputs": [],
   "source": [
    "#we use the collectData function to collect the data for training.\n",
    "    #we collect Y (angular) position of the end effector\n",
    "    #we collect x,y coordinates of the end effector in the camera image\n",
    "    #see the video final_project_guidance.mp4\n",
    "def collectData(desired_angle_change):\n",
    "    cam = ct.prepare_camera()\n",
    "    ct.show_camera(cam)\n",
    "    cam.release()\n",
    "    cam = ct.prepare_camera()\n",
    "    api.setPos(-90,90,moduleID)\n",
    "    api.sleep(1.5)\n",
    "    Y_angle_list = []\n",
    "    XY_coordinates_list = []\n",
    "    traversed_directions = 0\n",
    "    current_direction = 0     # 1 is for clockwise, 0 is for anticlockwise\n",
    "    traversedDirections = 0\n",
    "    num_of_iterations = (int)(np.round(360/desired_angle_change,1))\n",
    "    #Fable's Y arm traverse anticlockwise\n",
    "    if current_direction == 0:\n",
    "        for i in range(num_of_iterations):\n",
    "            img = ct.capture_image(cam)\n",
    "            x,y = ct.locate(img)\n",
    "            currentRobotYAng = (int)(np.round(api.getPos(1,moduleID),1))\n",
    "            Y_angle_list.append([currentRobotYAng])\n",
    "            XY_coordinates_list.append([x,y])\n",
    "            currentRobotYAng = currentRobotYAng - (desired_angle_change)\n",
    "            api.setPos(-90,currentRobotYAng,moduleID)\n",
    "            api.sleep(1.5)\n",
    "            if np.abs(currentRobotYAng) > 90:\n",
    "                current_direction = 1\n",
    "                traversedDirections = traversedDirections + 1\n",
    "                break\n",
    "    #Fable's Y Arm traverses clockwise\n",
    "    if current_direction == 1:\n",
    "        for i in range(num_of_iterations):\n",
    "            img = ct.capture_image(cam)\n",
    "            x,y = ct.locate(img)\n",
    "            currentRobotYAng = (int)(np.round(api.getPos(1,moduleID),1))\n",
    "            Y_angle_list.append([currentRobotYAng])\n",
    "            XY_coordinates_list.append([x,y])\n",
    "            currentRobotYAng = currentRobotYAng + (desired_angle_change)\n",
    "            api.setPos(-90,currentRobotYAng,moduleID)\n",
    "            api.sleep(1.5)\n",
    "            if np.abs(currentRobotYAng) > 90:\n",
    "                current_direction = 0\n",
    "                traversedDirections = traversedDirections + 1\n",
    "                break\n",
    "    if traversedDirections == 2:\n",
    "        cam.release()\n",
    "        #Save collected data to files\n",
    "        y_angle_file_ptr = open('angles_2.csv', 'a+', newline ='')\n",
    "        with y_angle_file_ptr:\n",
    "            writer = csv.writer(y_angle_file_ptr)\n",
    "            writer.writerows(Y_angle_list)\n",
    "        y_angle_file_ptr.close()\n",
    "        file_xycoords = open('xycoords_2.csv', 'a+', newline ='')\n",
    "        with file_xycoords:\n",
    "            writer = csv.writer(file_xycoords)\n",
    "            writer.writerows(XY_coordinates_list)\n",
    "        file_xycoords.close()\n",
    "    return\n",
    "    "
   ]
  },
  {
   "cell_type": "code",
   "execution_count": 235,
   "id": "c14beede",
   "metadata": {},
   "outputs": [],
   "source": [
    "#TODO: Call the CollectData() function with different values for 'desired_angle_change' argument and collect sufficient\n",
    "#sufficient amout of data to angles_2.csv file and xycoords_2.csv file.\n",
    "collectData(5)"
   ]
  },
  {
   "cell_type": "code",
   "execution_count": 236,
   "id": "845578e1",
   "metadata": {},
   "outputs": [],
   "source": [
    "#Use this function to calculate Y (angular) position errors \n",
    "# Y (angular) positions\n",
    "def readAngleFilesAndCollectErrors(fileName):\n",
    "    angleDataFrame = pd.read_csv(fileName)\n",
    "    desired_column = angleDataFrame.columns[0]\n",
    "    angle_error_list = []\n",
    "    for i in range(1,len(angleDataFrame)):\n",
    "        current_data_element = angleDataFrame[desired_column][i]\n",
    "        previous_data_element = angleDataFrame[desired_column][i-1]\n",
    "        #TODO: Calculate the Y (angular) position error(say current_error) as the difference between \n",
    "        # the current Y (angular) position and previous Y (angular) position\n",
    "        current_error = current_data_element - previous_data_element\n",
    "        #print(current_data_element,\" \", previous_data_element, \" \", current_error)\n",
    "        angle_error_list = angle_error_list + [current_error]\n",
    "    return angle_error_list"
   ]
  },
  {
   "cell_type": "code",
   "execution_count": 237,
   "id": "4aed3f04",
   "metadata": {},
   "outputs": [],
   "source": [
    "#Use this function to calculate errors between x and y coordinates\n",
    "def readXYCoordsFilesAndCollectErrors(fileName):\n",
    "    xyCoordsDataFrame = pd.read_csv(fileName)\n",
    "    x_col_name = xyCoordsDataFrame.columns[0]\n",
    "    y_col_name = xyCoordsDataFrame.columns[1]\n",
    "    x_pos_error_list = []\n",
    "    y_pos_error_list = []\n",
    "    for i in range(1,len(xyCoordsDataFrame)):\n",
    "        current_data_element_x = xyCoordsDataFrame[x_col_name][i]\n",
    "        current_data_element_y = xyCoordsDataFrame[y_col_name][i]\n",
    "        previous_data_element_x = xyCoordsDataFrame[x_col_name][i-1]\n",
    "        previous_data_element_y = xyCoordsDataFrame[y_col_name][i-1]\n",
    "        error_x_pos = current_data_element_x - previous_data_element_x \n",
    "        error_y_pos = current_data_element_y - previous_data_element_y\n",
    "        x_pos_error_list = x_pos_error_list + [error_x_pos]\n",
    "        y_pos_error_list = y_pos_error_list + [error_y_pos] \n",
    "    return [x_pos_error_list,y_pos_error_list]"
   ]
  },
  {
   "cell_type": "code",
   "execution_count": 238,
   "id": "4d283c21",
   "metadata": {},
   "outputs": [],
   "source": [
    "#Read the provided files and load the calculated errors into to appropriate lists as follows\n",
    "angle_error_list_1 = readAngleFilesAndCollectErrors(\"angles_1.csv\")\n",
    "x_pos_error_list_1,y_pos_error_list_1 = readXYCoordsFilesAndCollectErrors(\"xyCoords_1.csv\")\n",
    "#Read the files with the data dumped by you and load the calculated errors into appropriate lists.\n",
    "angle_error_list_2 = readAngleFilesAndCollectErrors(\"angles_2.csv\")\n",
    "x_pos_error_list_2,y_pos_error_list_2 = readXYCoordsFilesAndCollectErrors(\"xyCoords_2.csv\")"
   ]
  },
  {
   "cell_type": "code",
   "execution_count": 240,
   "id": "bcfb6b71",
   "metadata": {},
   "outputs": [],
   "source": [
    "#merge both angle_error_list_1 and angle_error_list_2 to a single list and make it a numpy array called 'angle_error_array'\n",
    "# angle_error_array = np.array(angle_error_list_1 + angle_error_list_2 )\n",
    "angle_error_array = angle_error_list_2\n",
    "#merge both x_pos_error_list_1 and x_pos_error_list_2 to a single list and make it a numpy array called 'x_coord_error_array'\n",
    "# x_coord_error_array = np.array(x_pos_error_list_1 + x_pos_error_list_2)\n",
    "x_coord_error_array = x_pos_error_list_2\n",
    "#merge both y_pos_error_list_1 and y_pos_error_list_2 to a single list and make it a numpy array called 'y_coord_error_array'\n",
    "# y_coord_error_array = np.array(y_pos_error_list_1 + y_pos_error_list_2)\n",
    "y_coord_error_array = y_pos_error_list_2"
   ]
  },
  {
   "cell_type": "code",
   "execution_count": null,
   "id": "09fc81dd",
   "metadata": {},
   "outputs": [],
   "source": [
    "# data = np.array([angle_error_array,x_coord_error_array,y_coord_error_array])\n",
    "# target = np.array([angle_error_array,x_coord_error_array,y_coord_error_array])"
   ]
  },
  {
   "cell_type": "code",
   "execution_count": 241,
   "id": "95a24914",
   "metadata": {},
   "outputs": [],
   "source": [
    "# Here we use 80% of the collected data  as the training set and 20% of the collected data as test set.\n",
    "#TODO: Assign different propotions of the collected data set and test set and check how the test set error varies of the \n",
    "#Neural Network\n",
    "data =  np.vstack((x_coord_error_array,y_coord_error_array)).T\n",
    "target = np.vstack(angle_error_array)\n",
    "# print(data)\n",
    "# print(target)\n",
    "data_input_tensor = torch.tensor(data.tolist()).float()\n",
    "data_target_tensor = torch.tensor(target.tolist()).float()\n",
    "data_with_target = torch.cat((data_input_tensor,data_target_tensor),1)\n",
    "#TODO: what is the importance of using DataLoader utility function here?\n",
    "loader= torch.utils.data.DataLoader(data_with_target,\n",
    "                                     batch_size=data_with_target.size()[0], shuffle=True,\n",
    "                                     num_workers=0)\n",
    "#training set\n",
    "train_set = []\n",
    "#test set\n",
    "test_set = []\n",
    "for i in iter(loader):\n",
    "    train_set_index = (int)(np.round(i.shape[0]*0.8))\n",
    "    train_set = i[:train_set_index,:]\n",
    "    test_set = i[train_set_index:,:]"
   ]
  },
  {
   "cell_type": "code",
   "execution_count": 242,
   "id": "c5578004",
   "metadata": {},
   "outputs": [
    {
     "name": "stdout",
     "output_type": "stream",
     "text": [
      "torch.Size([66, 3])\n",
      "torch.Size([16, 3])\n"
     ]
    }
   ],
   "source": [
    "print(train_set.shape)\n",
    "print(test_set.shape)"
   ]
  },
  {
   "cell_type": "code",
   "execution_count": 243,
   "id": "70582f8d",
   "metadata": {},
   "outputs": [],
   "source": [
    "#Defining Neural Network Model\n",
    "class NN(torch.nn.Module):\n",
    "    def __init__(self,n_feature,n_hidden1,n_hidden2,n_output):\n",
    "        super(NN,self).__init__()\n",
    "        self.hidden1 = torch.nn.Linear(n_feature,n_hidden1)\n",
    "        #self.do1 = torch.nn.Dropout(0.15)\n",
    "        #self.relu1 = torch.nn.LeakyReLU()\n",
    "        #self.bn1 = torch.nn.BatchNorm1d(n_hidden1,affine=False)\n",
    "        self.hidden2 = torch.nn.Linear(n_hidden1,n_hidden2)\n",
    "        #self.bn2 = torch.nn.BatchNorm1d(n_hidden2,affine=False)\n",
    "        #self.relu2 = torch.nn.LeakyReLU()\n",
    "        #self.do2 = torch.nn.Dropout(0.1)\n",
    "        self.predict = torch.nn.Linear(n_hidden2,n_output)\n",
    "        \n",
    "        \n",
    "    def forward(self,x):\n",
    "        x = self.hidden1(x)\n",
    "        x = torch.sigmoid(x)\n",
    "        #x = self.do1(x)\n",
    "        x = self.hidden2(x)\n",
    "        x = torch.sigmoid(x)\n",
    "        #x = self.do2(x)\n",
    "        x = self.predict(x)\n",
    "        return x"
   ]
  },
  {
   "cell_type": "code",
   "execution_count": 244,
   "id": "094f4f5e",
   "metadata": {},
   "outputs": [],
   "source": [
    "#instantiate the Neural Network\n",
    "#model = NN(n_feature=2,n_hidden1=17,n_hidden2=7, n_output=1)\n",
    "model = NN(n_feature=2,n_hidden1=100,n_hidden2=100, n_output=1)"
   ]
  },
  {
   "cell_type": "code",
   "execution_count": 245,
   "id": "2f3a93a0",
   "metadata": {},
   "outputs": [],
   "source": [
    "#Define loss function : \n",
    "# here we use Mean Square Error as the loss function\n",
    "loss_func = torch.nn.MSELoss()"
   ]
  },
  {
   "cell_type": "code",
   "execution_count": 246,
   "id": "bb61a9e9",
   "metadata": {},
   "outputs": [],
   "source": [
    "#Define the optimizer that should be used in training the Neural Network.\n",
    "# Here 'lr' is the learning rate\n",
    "optimizer = torch.optim.Adam(model.parameters(),lr=0.01)"
   ]
  },
  {
   "cell_type": "code",
   "execution_count": 247,
   "id": "8e8563f9",
   "metadata": {},
   "outputs": [],
   "source": [
    "train_set_inputs = train_set[:,:2]\n",
    "#TODO: calculate the mean value of the train_set_inputs. \n",
    "mean_of_train_input = torch.mean(train_set_inputs,0)\n",
    "#standard deviation of the train set inputs.\n",
    "std_of_the_train_input = torch.std(train_set_inputs,0)\n",
    "#here we normalize the inputs of the neural network. What is the importance of that?\n",
    "normalized_train_set_inputs = (train_set_inputs - mean_of_train_input)/std_of_the_train_input"
   ]
  },
  {
   "cell_type": "code",
   "execution_count": 248,
   "id": "84e10aa4",
   "metadata": {},
   "outputs": [],
   "source": [
    "#targets of the training set\n",
    "train_set_targets = train_set[:,2][:,np.newaxis]"
   ]
  },
  {
   "cell_type": "code",
   "execution_count": 249,
   "id": "3b66a79b",
   "metadata": {},
   "outputs": [
    {
     "name": "stdout",
     "output_type": "stream",
     "text": [
      "torch.Size([66, 2])\n",
      "torch.Size([66, 1])\n"
     ]
    }
   ],
   "source": [
    "print(normalized_train_set_inputs.shape)\n",
    "print(train_set_targets.shape)"
   ]
  },
  {
   "cell_type": "code",
   "execution_count": 250,
   "id": "4ceb0ebf",
   "metadata": {},
   "outputs": [],
   "source": [
    "#TODO: train the Neural network model by changing the hyper parameters such as learning rate, number of epochs, number of neurons in hidden layers of the neural network.\n",
    "# What is the minimum mean square error that you can achieve as your neural network converges for the training set.\n",
    "#  (you will be able to achive a MSE of less than 10 as the Neural network converges.)\n",
    "num_epochs = 10000\n",
    "losslist = []\n",
    "for _ in range(num_epochs):\n",
    "    prediction = model(normalized_train_set_inputs) # Forward pass prediction. Saves intermediary values required for backwards pass\n",
    "    loss = loss_func(prediction, train_set_targets) # Computes the loss for each example, using the loss function defined above\n",
    "    optimizer.zero_grad() # Clears gradients from previous iteration\n",
    "    loss.backward() # Backpropagation of errors through the network\n",
    "    optimizer.step() # Updating weights\n",
    "    # print(\"prediction =\",prediction)\n",
    "    # print(\"Loss: \", loss.detach().numpy())\n",
    "    losslist.append(loss.detach().numpy())"
   ]
  },
  {
   "cell_type": "code",
   "execution_count": 251,
   "id": "db3192e0",
   "metadata": {},
   "outputs": [
    {
     "data": {
      "image/png": "[encoded data removed]",
      "text/plain": [
       "<Figure size 640x480 with 1 Axes>"
      ]
     },
     "metadata": {},
     "output_type": "display_data"
    }
   ],
   "source": [
    "#plot the mean square error in each epoch/iteration\n",
    "plt.plot(np.arange(len(losslist)),losslist)\n",
    "plt.show()"
   ]
  },
  {
   "cell_type": "code",
   "execution_count": 252,
   "id": "4ab4a68e",
   "metadata": {},
   "outputs": [],
   "source": [
    "#save the best neural network model you have obtained.\n",
    "torch.save(model.state_dict(), 'best_nn_model.pth')\n",
    "\n",
    "#Save the mean and standard deviation of the train set inputs because we need to use them at test time."
   ]
  },
  {
   "cell_type": "code",
   "execution_count": 253,
   "id": "5b511aa8",
   "metadata": {},
   "outputs": [
    {
     "data": {
      "text/plain": [
       "<All keys matched successfully>"
      ]
     },
     "execution_count": 253,
     "metadata": {},
     "output_type": "execute_result"
    }
   ],
   "source": [
    "#reload the your best neural network model with saved parameters\n",
    "model = NN(n_feature=2,n_hidden1=100,n_hidden2=100, n_output=1)\n",
    "model.load_state_dict(torch.load('best_nn_model.pth'))"
   ]
  },
  {
   "cell_type": "code",
   "execution_count": 254,
   "id": "ab535de2",
   "metadata": {},
   "outputs": [
    {
     "name": "stdout",
     "output_type": "stream",
     "text": [
      "tensor([[ 12.,   0.],\n",
      "        [-14.,   0.],\n",
      "        [ -6.,   0.],\n",
      "        [ -2.,   0.],\n",
      "        [ -8.,  -2.],\n",
      "        [ 14.,   0.],\n",
      "        [ -6.,  -2.],\n",
      "        [ -4.,   4.],\n",
      "        [ -8.,   0.],\n",
      "        [-10.,   2.],\n",
      "        [ -6.,   0.],\n",
      "        [ 22.,   2.],\n",
      "        [ 14.,   0.],\n",
      "        [ 10.,   0.],\n",
      "        [  0.,   0.],\n",
      "        [ 14.,  -3.]])\n"
     ]
    }
   ],
   "source": [
    "#TODO: Extract inputs of the test_set\n",
    "test_set_inputs = test_set[:,:2]\n",
    "#TODO: Extract test set targets from the test_set\n",
    "test_set_targets = test_set[:,2][:,np.newaxis]\n",
    "print(test_set_inputs)"
   ]
  },
  {
   "cell_type": "code",
   "execution_count": 255,
   "id": "16007b0a",
   "metadata": {},
   "outputs": [
    {
     "name": "stdout",
     "output_type": "stream",
     "text": [
      "tensor([[ 9.3309e-01,  3.7405e-04],\n",
      "        [-1.0340e+00,  3.7405e-04],\n",
      "        [-4.2872e-01,  3.7405e-04],\n",
      "        [-1.2609e-01,  3.7405e-04],\n",
      "        [-5.8003e-01, -4.9000e-02],\n",
      "        [ 1.0844e+00,  3.7405e-04],\n",
      "        [-4.2872e-01, -4.9000e-02],\n",
      "        [-2.7741e-01,  9.9123e-02],\n",
      "        [-5.8003e-01,  3.7405e-04],\n",
      "        [-7.3134e-01,  4.9748e-02],\n",
      "        [-4.2872e-01,  3.7405e-04],\n",
      "        [ 1.6897e+00,  4.9748e-02],\n",
      "        [ 1.0844e+00,  3.7405e-04],\n",
      "        [ 7.8178e-01,  3.7405e-04],\n",
      "        [ 2.5219e-02,  3.7405e-04],\n",
      "        [ 1.0844e+00, -7.3688e-02]])\n"
     ]
    }
   ],
   "source": [
    "#TODO: Normalize test set inputs by using the mean and standard deviation of the inputs of the training set\n",
    "train_numpy = train_set_inputs.numpy()\n",
    "mean_of_train_input = np.mean(train_numpy, axis = 0)\n",
    "# print(test_numpy)\n",
    "# print(mean_of_test_input)\n",
    "std_of_the_train_input = np.std(train_numpy,0)\n",
    "normalized_test_set_inputs = (test_set_inputs - mean_of_train_input)/std_of_the_train_input\n",
    "print(normalized_test_set_inputs)"
   ]
  },
  {
   "cell_type": "code",
   "execution_count": 256,
   "id": "d504e4b0",
   "metadata": {},
   "outputs": [],
   "source": [
    "#TODO: feed the normalized test set inputs to the Neural Network model and obtain the prediction for the test set.\n",
    "prediction_test = model(normalized_test_set_inputs)"
   ]
  },
  {
   "cell_type": "code",
   "execution_count": 257,
   "id": "ab886182",
   "metadata": {},
   "outputs": [
    {
     "name": "stdout",
     "output_type": "stream",
     "text": [
      "torch.Size([16, 1])\n"
     ]
    }
   ],
   "source": [
    "print(prediction_test.shape)"
   ]
  },
  {
   "cell_type": "code",
   "execution_count": 258,
   "id": "84590f5d",
   "metadata": {},
   "outputs": [
    {
     "name": "stdout",
     "output_type": "stream",
     "text": [
      "tensor([[-4.9121],\n",
      "        [ 4.1401],\n",
      "        [ 3.4021],\n",
      "        [ 4.2109],\n",
      "        [ 0.9244],\n",
      "        [-4.9403],\n",
      "        [ 4.5830],\n",
      "        [-7.4805],\n",
      "        [ 1.0504],\n",
      "        [ 4.4159],\n",
      "        [ 3.4021],\n",
      "        [-4.8995],\n",
      "        [-4.9403],\n",
      "        [-5.3167],\n",
      "        [ 0.3729],\n",
      "        [-4.9285]], grad_fn=<AddmmBackward0>)\n"
     ]
    },
    {
     "data": {
      "text/plain": [
       "[<matplotlib.lines.Line2D at 0x18368f0fdd0>]"
      ]
     },
     "execution_count": 258,
     "metadata": {},
     "output_type": "execute_result"
    },
    {
     "data": {
      "image/png": "[encoded data removed]",
      "text/plain": [
       "<Figure size 640x480 with 1 Axes>"
      ]
     },
     "metadata": {},
     "output_type": "display_data"
    }
   ],
   "source": [
    "#plot the prediction error of the test set\n",
    "test_set_prediction_error = prediction_test - test_set_targets\n",
    "print(prediction_test)\n",
    "# print(test_set_prediction_error)\n",
    "plt.plot(np.arange(len(test_set_prediction_error.tolist())),test_set_prediction_error.tolist())"
   ]
  },
  {
   "cell_type": "code",
   "execution_count": null,
   "id": "4334cb5d",
   "metadata": {},
   "outputs": [],
   "source": [
    "# In the example model trained with about 600 data, from a test set of 165 samples,\n",
    "# 159 samples are predicted with prediction error less than 10."
   ]
  },
  {
   "cell_type": "code",
   "execution_count": null,
   "id": "efc5d782",
   "metadata": {},
   "outputs": [],
   "source": [
    "#TODO: Based on the prediction error of the test set, you can try to train the neural network again by changing the hyper parameters mentioned above.\n",
    "# Also Try to add Dropout layers to the Neural network and check whether test prediction errors can be reduced further."
   ]
  },
  {
   "cell_type": "markdown",
   "id": "ffd3979d",
   "metadata": {},
   "source": [
    "# DETECTING THE OBJECT AT TESTING PHASE"
   ]
  },
  {
   "cell_type": "code",
   "execution_count": 272,
   "id": "df8744fd",
   "metadata": {},
   "outputs": [],
   "source": [
    "#Here we implement the control loop which is having Neural Network as the controller.\n",
    "#In this case we donot integrate CMAC to the control loop\n",
    "def ControlLoopWithNNWithoutCMAC(target__x_coordinate,target__y_coordinate):\n",
    "    \n",
    "    number_of_iterations_for_convergence = 0\n",
    "    #TODO:Intialize your best neural network model and load the saved paramemeters\n",
    "    NN_model = NN(n_feature=2,n_hidden1=100,n_hidden2=100, n_output=1)\n",
    "    NN_model.load_state_dict(torch.load('best_nn_model.pth'))\n",
    "\n",
    "    #TODO: Obtain the x and y coodinates of the green box placed on the end effector of the robot\n",
    "    \n",
    "    #Here we loop for 50 iterations assuming that \n",
    "    # the controller should achieve the desired target within atmost 50 iterations\n",
    "    for i in range(1000):\n",
    "        cam = ct.prepare_camera()\n",
    "        img = ct.capture_image(cam)\n",
    "        x,y = ct.locate(img,low_green, high_green)\n",
    "        robot_x_coord_in_image = x\n",
    "        robot_y_coord_in_image = y\n",
    "        x_coord_error = target__x_coordinate - robot_x_coord_in_image;\n",
    "        y_coord_error = target__y_coordinate - robot_x_coord_in_image;\n",
    "        #Here if the errors are less than twenty pixels we assume robot reaches the target. \n",
    "        # However you can choose any reasonable threshold value instead of 20.\n",
    "        if (np.abs(x_coord_error) < 20 and np.abs(y_coord_error) < 20):\n",
    "            print(\"number of iterations for convergence = \", number_of_iterations_for_convergence)\n",
    "            break\n",
    "        xy_input_nn_model = [x_coord_error,y_coord_error]\n",
    "        print(xy_input_nn_model)\n",
    "        #TODO: normalize the input to the Neural network model using meaning and variance of the training set inputs.\n",
    "        normalize_xy_input_nn_model = (xy_input_nn_model - mean_of_train_input)/std_of_the_train_input\n",
    "        # print(normalize_xy_input_nn_model)\n",
    "        normalize_xy_input_nn_model_tensor = torch.tensor(normalize_xy_input_nn_model.tolist()).float()\n",
    "        # print(normalize_xy_input_nn_model_tensor)\n",
    "        prediction_for_Y_pos_increment = NN_model(normalize_xy_input_nn_model_tensor)\n",
    "        # print(prediction_for_Y_pos_increment)\n",
    "        #TODO: Get the current Y (angular) position/angle of the robot. you can use the api.getPos function of fable\n",
    "        robot_current_Y_pos = api.getPos(1,moduleID)\n",
    "        #Next Y angular position of the robot will be robot_Y_pos + prediction_for_Y_pos_increment\n",
    "        robot_next_Y_pos = robot_current_Y_pos + prediction_for_Y_pos_increment\n",
    "        print(robot_next_Y_pos)\n",
    "        #TODO: Set the next position of the robot to (-90,robot_next_Y_pos) using the setPos function of the fable.\n",
    "        api.setPos(-90,robot_next_Y_pos,moduleID)\n",
    "        api.sleep(1.5)\n",
    "        number_of_iterations_for_convergence = number_of_iterations_for_convergence + 1\n",
    "    return\n"
   ]
  },
  {
   "cell_type": "code",
   "execution_count": 276,
   "id": "6d79f46a",
   "metadata": {},
   "outputs": [
    {
     "name": "stdout",
     "output_type": "stream",
     "text": [
      "target_x =  292\n"
     ]
    }
   ],
   "source": [
    "#TODO: Detect the target object and obtain the coordinates of the object in the image\n",
    "cam = ct.prepare_camera()\n",
    "img = ct.capture_image(cam)\n",
    "# ct.show_camera(cam, low_green, high_green)\n",
    "x,y = ct.locate(img,low_green, high_green)\n",
    "target_x = x\n",
    "target_y = y\n",
    "print(\"target_x = \",target_x)"
   ]
  },
  {
   "cell_type": "code",
   "execution_count": 277,
   "id": "d905bb48",
   "metadata": {},
   "outputs": [
    {
     "data": {
      "text/plain": [
       "0"
      ]
     },
     "execution_count": 277,
     "metadata": {},
     "output_type": "execute_result"
    }
   ],
   "source": [
    "api.setPos(-90,90,moduleID)"
   ]
  },
  {
   "cell_type": "code",
   "execution_count": 278,
   "id": "519af766",
   "metadata": {},
   "outputs": [
    {
     "name": "stdout",
     "output_type": "stream",
     "text": [
      "[158, 81]\n",
      "tensor([83.8747], grad_fn=<AddBackward0>)\n",
      "[160, 83]\n",
      "tensor([78.0153], grad_fn=<AddBackward0>)\n",
      "[158, 81]\n",
      "tensor([72.1559], grad_fn=<AddBackward0>)\n",
      "[158, 81]\n",
      "tensor([66.5895], grad_fn=<AddBackward0>)\n",
      "[158, 81]\n",
      "tensor([61.3161], grad_fn=<AddBackward0>)\n",
      "[154, 77]\n",
      "tensor([55.7497], grad_fn=<AddBackward0>)\n",
      "[149, 72]\n",
      "tensor([50.1832], grad_fn=<AddBackward0>)\n",
      "[144, 67]\n",
      "tensor([44.6168], grad_fn=<AddBackward0>)\n",
      "[138, 61]\n",
      "tensor([39.0504], grad_fn=<AddBackward0>)\n",
      "[128, 51]\n",
      "tensor([33.7770], grad_fn=<AddBackward0>)\n",
      "[116, 39]\n",
      "tensor([28.5036], grad_fn=<AddBackward0>)\n",
      "[102, 25]\n",
      "tensor([22.9372], grad_fn=<AddBackward0>)\n",
      "[86, 9]\n",
      "tensor([17.3707], grad_fn=<AddBackward0>)\n",
      "[68, -9]\n",
      "tensor([12.0798], grad_fn=<AddBackward0>)\n",
      "[48, -29]\n",
      "tensor([7.9554], grad_fn=<AddBackward0>)\n",
      "[32, -45]\n",
      "tensor([4.1754], grad_fn=<AddBackward0>)\n",
      "[20, -57]\n",
      "tensor([7.7828], grad_fn=<AddBackward0>)\n",
      "[30, -47]\n",
      "tensor([2.8527], grad_fn=<AddBackward0>)\n",
      "[14, -63]\n",
      "tensor([6.0916], grad_fn=<AddBackward0>)\n",
      "[24, -53]\n",
      "tensor([0.4515], grad_fn=<AddBackward0>)\n",
      "[4, -73]\n",
      "tensor([2.6736], grad_fn=<AddBackward0>)\n",
      "[10, -67]\n",
      "tensor([3.0808], grad_fn=<AddBackward0>)\n",
      "[12, -65]\n",
      "tensor([4.8733], grad_fn=<AddBackward0>)\n",
      "[18, -59]\n",
      "tensor([15.0940], grad_fn=<AddBackward0>)\n",
      "[56, -21]\n",
      "tensor([10.8305], grad_fn=<AddBackward0>)\n",
      "[44, -33]\n",
      "tensor([7.0324], grad_fn=<AddBackward0>)\n",
      "[28, -49]\n",
      "tensor([2.4124], grad_fn=<AddBackward0>)\n",
      "[12, -65]\n",
      "tensor([4.5804], grad_fn=<AddBackward0>)\n",
      "[16, -61]\n",
      "tensor([18.6719], grad_fn=<AddBackward0>)\n",
      "[70, -7]\n",
      "tensor([12.6830], grad_fn=<AddBackward0>)\n",
      "[52, -25]\n",
      "tensor([8.4052], grad_fn=<AddBackward0>)\n",
      "[36, -41]\n",
      "tensor([4.7305], grad_fn=<AddBackward0>)\n",
      "[20, -57]\n",
      "tensor([7.7828], grad_fn=<AddBackward0>)\n"
     ]
    },
    {
     "ename": "KeyboardInterrupt",
     "evalue": "",
     "output_type": "error",
     "traceback": [
      "\u001b[1;31m---------------------------------------------------------------------------\u001b[0m",
      "\u001b[1;31mKeyboardInterrupt\u001b[0m                         Traceback (most recent call last)",
      "Cell \u001b[1;32mIn[278], line 2\u001b[0m\n\u001b[0;32m      1\u001b[0m \u001b[38;5;66;03m#TODO: Call the control loop for a target which is detected. Record the number of iterations that the control loop spent for convergence.\u001b[39;00m\n\u001b[1;32m----> 2\u001b[0m \u001b[43mControlLoopWithNNWithoutCMAC\u001b[49m\u001b[43m(\u001b[49m\u001b[43mtarget_x\u001b[49m\u001b[43m,\u001b[49m\u001b[43mtarget_y\u001b[49m\u001b[43m)\u001b[49m\n\u001b[0;32m      3\u001b[0m \u001b[38;5;66;03m#TODO: change your target location and try again. You may change the target 4-5 times and check how the control loop work.\u001b[39;00m\n\u001b[0;32m      4\u001b[0m \u001b[38;5;66;03m#Record the number of iterations that the control loop spent for convergence.\u001b[39;00m\n",
      "Cell \u001b[1;32mIn[272], line 43\u001b[0m, in \u001b[0;36mControlLoopWithNNWithoutCMAC\u001b[1;34m(target__x_coordinate, target__y_coordinate)\u001b[0m\n\u001b[0;32m     41\u001b[0m     \u001b[38;5;66;03m#TODO: Set the next position of the robot to (-90,robot_next_Y_pos) using the setPos function of the fable.\u001b[39;00m\n\u001b[0;32m     42\u001b[0m     api\u001b[38;5;241m.\u001b[39msetPos(\u001b[38;5;241m-\u001b[39m\u001b[38;5;241m90\u001b[39m,robot_next_Y_pos,moduleID)\n\u001b[1;32m---> 43\u001b[0m     \u001b[43mapi\u001b[49m\u001b[38;5;241;43m.\u001b[39;49m\u001b[43msleep\u001b[49m\u001b[43m(\u001b[49m\u001b[38;5;241;43m1.5\u001b[39;49m\u001b[43m)\u001b[49m\n\u001b[0;32m     44\u001b[0m     number_of_iterations_for_convergence \u001b[38;5;241m=\u001b[39m number_of_iterations_for_convergence \u001b[38;5;241m+\u001b[39m \u001b[38;5;241m1\u001b[39m\n\u001b[0;32m     45\u001b[0m \u001b[38;5;28;01mreturn\u001b[39;00m\n",
      "File \u001b[1;32mc:\\Users\\Marcel\\.conda\\envs\\biocontrol_fix\\Lib\\site-packages\\FableAPI\\fableAPI.py:521\u001b[0m, in \u001b[0;36mFableAPI.sleep\u001b[1;34m(self, wtime)\u001b[0m\n\u001b[0;32m    519\u001b[0m     \u001b[38;5;28;01mreturn\u001b[39;00m\n\u001b[0;32m    520\u001b[0m \u001b[38;5;28;01melse\u001b[39;00m:\n\u001b[1;32m--> 521\u001b[0m     time\u001b[38;5;241m.\u001b[39msleep(\u001b[38;5;241m0.1\u001b[39m)\n\u001b[0;32m    522\u001b[0m     wtime \u001b[38;5;241m-\u001b[39m\u001b[38;5;241m=\u001b[39m \u001b[38;5;241m0.1\u001b[39m\n",
      "\u001b[1;31mKeyboardInterrupt\u001b[0m: "
     ]
    }
   ],
   "source": [
    "#TODO: Call the control loop for a target which is detected. Record the number of iterations that the control loop spent for convergence.\n",
    "ControlLoopWithNNWithoutCMAC(target_x,target_y)\n",
    "#TODO: change your target location and try again. You may change the target 4-5 times and check how the control loop work.\n",
    "#Record the number of iterations that the control loop spent for convergence."
   ]
  },
  {
   "cell_type": "code",
   "execution_count": 116,
   "id": "566e488a",
   "metadata": {},
   "outputs": [
    {
     "name": "stdout",
     "output_type": "stream",
     "text": [
      "target_x =  296\n"
     ]
    }
   ],
   "source": [
    "cam = ct.prepare_camera()\n",
    "img = ct.capture_image(cam)\n",
    "# ct.show_camera(cam, low_green, high_green)\n",
    "x,y = ct.locate(img,low_green, high_green)\n",
    "target_x = x\n",
    "target_y = y\n",
    "print(\"target_x = \",target_x)"
   ]
  },
  {
   "cell_type": "code",
   "execution_count": null,
   "id": "5cdd72be",
   "metadata": {},
   "outputs": [],
   "source": [
    "#Now integrate the CMAC to the previous control loop which had only the Neural Network. \n",
    "#The implementation of the CMAC can be found in code given for second week exercises.\n",
    "#TODO: Implement the control loop with both neural network and CMAC. \n",
    "def ControlLoopWithBothNNandCMAC():\n",
    "    \n",
    "    return"
   ]
  },
  {
   "cell_type": "code",
   "execution_count": null,
   "id": "291f6aff",
   "metadata": {},
   "outputs": [],
   "source": [
    "#TODO: Compare the number of iteration it takes for convergence in the control loop with \n",
    "# neural network only and with both CMAC and neural network."
   ]
  }
 ],
 "metadata": {
  "interpreter": {
   "hash": "97b1ca7657afa4cca8b89ccd445cd43dbad4b1535d3709ba624a8852d37759e0"
  },
  "kernelspec": {
   "display_name": "Python [conda env:biocontrol] *",
   "language": "python",
   "name": "python3"
  },
  "language_info": {
   "codemirror_mode": {
    "name": "ipython",
    "version": 3
   },
   "file_extension": ".py",
   "mimetype": "text/x-python",
   "name": "python",
   "nbconvert_exporter": "python",
   "pygments_lexer": "ipython3",
   "version": "3.11.5"
  }
 },
 "nbformat": 4,
 "nbformat_minor": 5
}
