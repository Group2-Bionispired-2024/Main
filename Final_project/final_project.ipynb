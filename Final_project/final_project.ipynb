{
 "cells": [
  {
   "cell_type": "code",
   "execution_count": 1,
   "id": "80c5863b",
   "metadata": {},
   "outputs": [],
   "source": [
    "import numpy as np\n",
    "import csv\n",
    "import pandas as pd\n",
    "import os\n",
    "import torch\n",
    "import matplotlib.pyplot as plt"
   ]
  },
  {
   "cell_type": "code",
   "execution_count": 2,
   "id": "fa93fce4",
   "metadata": {},
   "outputs": [],
   "source": [
    "import camera_tools as ct"
   ]
  },
  {
   "cell_type": "code",
   "execution_count": 3,
   "id": "94a784c1",
   "metadata": {},
   "outputs": [],
   "source": [
    "from cmac2 import CMAC"
   ]
  },
  {
   "cell_type": "code",
   "execution_count": 4,
   "id": "e74871f9",
   "metadata": {},
   "outputs": [
    {
     "name": "stdout",
     "output_type": "stream",
     "text": [
      "[51 70 93]\n",
      "[120 103 208]\n"
     ]
    }
   ],
   "source": [
    "#Calibrate the camera to detect green box, if you haven't done this calibration before\n",
    "low_green, high_green = ct.colorpicker()\n",
    "print(low_green)\n",
    "print(high_green)"
   ]
  },
  {
   "cell_type": "code",
   "execution_count": 148,
   "id": "e6e572fa",
   "metadata": {},
   "outputs": [
    {
     "name": "stdout",
     "output_type": "stream",
     "text": [
      "[0 0 0]\n",
      "[255 255 255]\n"
     ]
    }
   ],
   "source": [
    "low_red, high_red = ct.colorpicker()\n",
    "print(low_red)\n",
    "print(high_red)"
   ]
  },
  {
   "cell_type": "code",
   "execution_count": 5,
   "id": "4a0e3103",
   "metadata": {},
   "outputs": [
    {
     "name": "stdout",
     "output_type": "stream",
     "text": [
      "None None\n"
     ]
    }
   ],
   "source": [
    "#Check whether the camera detects the green object properly\n",
    "cam = ct.prepare_camera()\n",
    "image = ct.capture_image(cam)\n",
    "x,y = ct.locate(image, low_green, high_green)\n",
    "ct.show_camera(cam)\n",
    "\n",
    "print(x,y)"
   ]
  },
  {
   "cell_type": "code",
   "execution_count": null,
   "id": "19c6b967",
   "metadata": {},
   "outputs": [],
   "source": [
    "#Check whether the camera detects the green object properly\n",
    "cam_red = ct.prepare_camera()\n",
    "img_red = ct.capture_image(cam_red)\n",
    "ct.show_camera(cam_red, low_red, high_red)"
   ]
  },
  {
   "cell_type": "code",
   "execution_count": 6,
   "id": "b7e258dc",
   "metadata": {},
   "outputs": [
    {
     "name": "stdout",
     "output_type": "stream",
     "text": [
      "PORT: COM3, NAME: Standard Serial over Bluetooth link (COM3), HWID: BTHENUM\\{00001101-0000-1000-8000-00805F9B34FB}_VID&0001005D_PID&223B\\7&30FFFDFE&1&1C52169F0364_C00000000\n",
      "PORT: COM4, NAME: Standard Serial over Bluetooth link (COM4), HWID: BTHENUM\\{00001101-0000-1000-8000-00805F9B34FB}_LOCALMFG&0000\\7&30FFFDFE&1&000000000000_00000000\n",
      "PORT: COM5, NAME: USB Serial Device (COM5), HWID: USB VID:PID=03EB:FABE SER= LOCATION=1-1\n",
      "Trying to connect COM5 dongle connect: True\n",
      "Dongle...success\n",
      "setup done\n"
     ]
    },
    {
     "data": {
      "text/plain": [
       "True"
      ]
     },
     "execution_count": 6,
     "metadata": {},
     "output_type": "execute_result"
    }
   ],
   "source": [
    "from FableAPI.fable_init import api\n",
    "api.setup(blocking=True)"
   ]
  },
  {
   "cell_type": "code",
   "execution_count": 16,
   "id": "d70b71f2",
   "metadata": {},
   "outputs": [
    {
     "name": "stdout",
     "output_type": "stream",
     "text": [
      "Module IDs:  ['5YA ']\n",
      "Battery level: 100 %\n"
     ]
    }
   ],
   "source": [
    "moduleids = api.discoverModules()\n",
    "print(\"Module IDs: \", moduleids)\n",
    "moduleID = moduleids[0]\n",
    "print(\"Battery level:\",api.getBattery(moduleID),\"%\")"
   ]
  },
  {
   "cell_type": "code",
   "execution_count": 18,
   "id": "bd4d6bd4",
   "metadata": {},
   "outputs": [
    {
     "data": {
      "text/plain": [
       "0"
      ]
     },
     "execution_count": 18,
     "metadata": {},
     "output_type": "execute_result"
    }
   ],
   "source": [
    "api.setPos(-90,0,moduleID)"
   ]
  },
  {
   "cell_type": "code",
   "execution_count": 19,
   "id": "b361e0eb",
   "metadata": {},
   "outputs": [],
   "source": [
    "#Create two files (if they were not already created) to collect data.\n",
    "if (not os.path.exists(\"xycoords_2.csv\")):\n",
    "    f = open('xycoords_2.csv', 'w')\n",
    "    with f:\n",
    "        writer = csv.writer(f)\n",
    "        writer.writerows([[\"X\",\"Y\"]])\n",
    "    f.close()\n",
    "if (not os.path.exists(\"angles_2.csv\")):\n",
    "    f = open('angles_2.csv','w')\n",
    "    with f:\n",
    "        writer = csv.writer(f)\n",
    "        writer.writerows([[\"Y_angle\"]])\n",
    "    f.close()"
   ]
  },
  {
   "cell_type": "code",
   "execution_count": 20,
   "id": "53b78dcf",
   "metadata": {},
   "outputs": [],
   "source": [
    "#we use the collectData function to collect the data for training.\n",
    "    #we collect Y (angular) position of the end effector\n",
    "    #we collect x,y coordinates of the end effector in the camera image\n",
    "    #see the video final_project_guidance.mp4\n",
    "def collectData(desired_angle_change):\n",
    "    cam = ct.prepare_camera()\n",
    "    ct.show_camera(cam)\n",
    "    cam.release()\n",
    "    cam = ct.prepare_camera()\n",
    "    api.setPos(-90,90,moduleID)\n",
    "    api.sleep(1.5)\n",
    "    Y_angle_list = []\n",
    "    XY_coordinates_list = []\n",
    "    traversed_directions = 0\n",
    "    current_direction = 0     # 1 is for clockwise, 0 is for anticlockwise\n",
    "    traversedDirections = 0\n",
    "    num_of_iterations = (int)(np.round(360/desired_angle_change,1))\n",
    "    #Fable's Y arm traverse anticlockwise\n",
    "    if current_direction == 0:\n",
    "        for i in range(num_of_iterations):\n",
    "            img = ct.capture_image(cam)\n",
    "            x,y = ct.locate(img, low_green, high_green)\n",
    "            currentRobotYAng = (int)(np.round(api.getPos(1,moduleID),1))\n",
    "            Y_angle_list.append([currentRobotYAng])\n",
    "            XY_coordinates_list.append([x,y])\n",
    "            currentRobotYAng = currentRobotYAng - (desired_angle_change)\n",
    "            api.setPos(-90,currentRobotYAng,moduleID)\n",
    "            api.sleep(1.5)\n",
    "            if np.abs(currentRobotYAng) > 90:\n",
    "                current_direction = 1\n",
    "                traversedDirections = traversedDirections + 1\n",
    "                break\n",
    "    #Fable's Y Arm traverses clockwise\n",
    "    if current_direction == 1:\n",
    "        for i in range(num_of_iterations):\n",
    "            img = ct.capture_image(cam)\n",
    "            x,y = ct.locate(img, low_green, high_green)\n",
    "            currentRobotYAng = (int)(np.round(api.getPos(1,moduleID),1))\n",
    "            Y_angle_list.append([currentRobotYAng])\n",
    "            XY_coordinates_list.append([x,y])\n",
    "            currentRobotYAng = currentRobotYAng + (desired_angle_change)\n",
    "            api.setPos(-90,currentRobotYAng,moduleID)\n",
    "            api.sleep(1.5)\n",
    "            if np.abs(currentRobotYAng) > 90:\n",
    "                current_direction = 0\n",
    "                traversedDirections = traversedDirections + 1\n",
    "                break\n",
    "    if traversedDirections == 2:\n",
    "        cam.release()\n",
    "        #Save collected data to files\n",
    "        y_angle_file_ptr = open('angles_2.csv', 'a+', newline ='')\n",
    "        with y_angle_file_ptr:\n",
    "            writer = csv.writer(y_angle_file_ptr)\n",
    "            writer.writerows(Y_angle_list)\n",
    "        y_angle_file_ptr.close()\n",
    "        file_xycoords = open('xycoords_2.csv', 'a+', newline ='')\n",
    "        with file_xycoords:\n",
    "            writer = csv.writer(file_xycoords)\n",
    "            writer.writerows(XY_coordinates_list)\n",
    "        file_xycoords.close()\n",
    "    return\n",
    "    "
   ]
  },
  {
   "cell_type": "code",
   "execution_count": 21,
   "id": "c14beede",
   "metadata": {},
   "outputs": [],
   "source": [
    "#TODO: Call the CollectData() function with different values for 'desired_angle_change' argument and collect sufficient\n",
    "#sufficient amout of data to angles_2.csv file and xycoords_2.csv file.\n",
    "collectData(5)"
   ]
  },
  {
   "cell_type": "code",
   "execution_count": 22,
   "id": "845578e1",
   "metadata": {},
   "outputs": [],
   "source": [
    "#Use this function to calculate Y (angular) position errors \n",
    "# Y (angular) positions\n",
    "def readAngleFilesAndCollectErrors(fileName):\n",
    "    angleDataFrame = pd.read_csv(fileName)\n",
    "    desired_column = angleDataFrame.columns[0]\n",
    "    angle_error_list = []\n",
    "    for i in range(1,len(angleDataFrame)):\n",
    "        current_data_element = angleDataFrame[desired_column][i]\n",
    "        previous_data_element = angleDataFrame[desired_column][i-1]\n",
    "        #TODO: Calculate the Y (angular) position error(say current_error) as the difference between \n",
    "        # the current Y (angular) position and previous Y (angular) position\n",
    "        current_error = current_data_element - previous_data_element\n",
    "        #print(current_data_element,\" \", previous_data_element, \" \", current_error)\n",
    "        angle_error_list = angle_error_list + [current_error]\n",
    "    return angle_error_list"
   ]
  },
  {
   "cell_type": "code",
   "execution_count": 23,
   "id": "4aed3f04",
   "metadata": {},
   "outputs": [],
   "source": [
    "#Use this function to calculate errors between x and y coordinates\n",
    "def readXYCoordsFilesAndCollectErrors(fileName):\n",
    "    xyCoordsDataFrame = pd.read_csv(fileName)\n",
    "    x_col_name = xyCoordsDataFrame.columns[0]\n",
    "    y_col_name = xyCoordsDataFrame.columns[1]\n",
    "    x_pos_error_list = []\n",
    "    y_pos_error_list = []\n",
    "    for i in range(1,len(xyCoordsDataFrame)):\n",
    "        current_data_element_x = xyCoordsDataFrame[x_col_name][i]\n",
    "        current_data_element_y = xyCoordsDataFrame[y_col_name][i]\n",
    "        previous_data_element_x = xyCoordsDataFrame[x_col_name][i-1]\n",
    "        previous_data_element_y = xyCoordsDataFrame[y_col_name][i-1]\n",
    "        error_x_pos = current_data_element_x - previous_data_element_x \n",
    "        error_y_pos = current_data_element_y - previous_data_element_y\n",
    "        x_pos_error_list = x_pos_error_list + [error_x_pos]\n",
    "        y_pos_error_list = y_pos_error_list + [error_y_pos] \n",
    "    return [x_pos_error_list,y_pos_error_list]"
   ]
  },
  {
   "cell_type": "code",
   "execution_count": 36,
   "id": "4d283c21",
   "metadata": {},
   "outputs": [],
   "source": [
    "#Read the provided files and load the calculated errors into to appropriate lists as follows\n",
    "# angle_error_list_1 = readAngleFilesAndCollectErrors(\"angles_1.csv\")\n",
    "# x_pos_error_list_1,y_pos_error_list_1 = readXYCoordsFilesAndCollectErrors(\"xyCoords_1.csv\")\n",
    "#Read the files with the data dumped by you and load the calculated errors into appropriate lists.\n",
    "angle_error_list_2 = readAngleFilesAndCollectErrors(\"angles_2.csv\")\n",
    "x_pos_error_list_2,y_pos_error_list_2 = readXYCoordsFilesAndCollectErrors(\"xyCoords_2.csv\")"
   ]
  },
  {
   "cell_type": "markdown",
   "id": "3b0ba5fe",
   "metadata": {},
   "source": [
    "Remove any nans"
   ]
  },
  {
   "cell_type": "code",
   "execution_count": 37,
   "id": "98dff63c",
   "metadata": {},
   "outputs": [
    {
     "name": "stdout",
     "output_type": "stream",
     "text": [
      "Angle errors:  (83,)\n",
      "X position errors:  (83,)\n",
      "Y position errors:  (83,)\n"
     ]
    }
   ],
   "source": [
    "x_coord_error_array = np.array(x_pos_error_list_2)\n",
    "y_coord_error_array = np.array(y_pos_error_list_2)\n",
    "angle_error_array = np.array(angle_error_list_2)\n",
    "print(\"Angle errors: \",angle_error_array.shape)\n",
    "print(\"X position errors: \",x_coord_error_array.shape)\n",
    "print(\"Y position errors: \",y_coord_error_array.shape)"
   ]
  },
  {
   "cell_type": "code",
   "execution_count": 38,
   "id": "1426d219",
   "metadata": {},
   "outputs": [
    {
     "name": "stdout",
     "output_type": "stream",
     "text": [
      "(82,) (82,) (82,)\n"
     ]
    }
   ],
   "source": [
    "# Get a boolean mask where True indicates the location of NaNs in angle_error_array\n",
    "nan_mask = np.isnan(x_coord_error_array)\n",
    "\n",
    "# Use this mask to remove corresponding elements from x_coord_error_array and y_coord_error_array\n",
    "x_coord_error_array = x_coord_error_array[~nan_mask]\n",
    "y_coord_error_array = y_coord_error_array[~nan_mask]\n",
    "\n",
    "# Now remove the NaNs from angle_error_array\n",
    "angle_error_array = angle_error_array[~nan_mask]\n",
    "\n",
    "print(angle_error_array.shape, x_coord_error_array.shape, y_coord_error_array.shape)"
   ]
  },
  {
   "cell_type": "markdown",
   "id": "90fe5887",
   "metadata": {},
   "source": [
    "Merge them"
   ]
  },
  {
   "cell_type": "code",
   "execution_count": 39,
   "id": "95a24914",
   "metadata": {},
   "outputs": [],
   "source": [
    "# Here we use 80% of the collected data  as the training set and 20% of the collected data as test set.\n",
    "#TODO: Assign different propotions of the collected data set and test set and check how the test set error varies of the \n",
    "#Neural Network\n",
    "data =  np.vstack((x_coord_error_array,y_coord_error_array)).T\n",
    "target = np.vstack(angle_error_array)\n",
    "data_input_tensor = torch.tensor(data.tolist()).float()\n",
    "data_target_tensor = torch.tensor(target.tolist()).float()\n",
    "data_with_target = torch.cat((data_input_tensor,data_target_tensor),1)\n",
    "#TODO: what is the importance of using DataLoader utility function here?\n",
    "loader= torch.utils.data.DataLoader(data_with_target,\n",
    "                                     batch_size=data_with_target.size()[0], shuffle=True,\n",
    "                                     num_workers=0)\n",
    "#training set\n",
    "train_set = []\n",
    "#test set\n",
    "test_set = []\n",
    "for i in iter(loader):\n",
    "    train_set_index = (int)(np.round(i.shape[0]*0.8))\n",
    "    train_set = i[:train_set_index,:]\n",
    "    test_set = i[train_set_index:,:]"
   ]
  },
  {
   "cell_type": "code",
   "execution_count": 40,
   "id": "c5578004",
   "metadata": {},
   "outputs": [
    {
     "name": "stdout",
     "output_type": "stream",
     "text": [
      "torch.Size([66, 3])\n",
      "torch.Size([16, 3])\n"
     ]
    }
   ],
   "source": [
    "print(train_set.shape)\n",
    "print(test_set.shape)"
   ]
  },
  {
   "cell_type": "code",
   "execution_count": 41,
   "id": "70582f8d",
   "metadata": {},
   "outputs": [],
   "source": [
    "#Defining Neural Network Model\n",
    "class NN(torch.nn.Module):\n",
    "    def __init__(self,n_feature,n_hidden1,n_hidden2,n_output):\n",
    "        super(NN,self).__init__()\n",
    "        self.hidden1 = torch.nn.Linear(n_feature,n_hidden1)\n",
    "        #self.do1 = torch.nn.Dropout(0.15)\n",
    "        #self.relu1 = torch.nn.LeakyReLU()\n",
    "        #self.bn1 = torch.nn.BatchNorm1d(n_hidden1,affine=False)\n",
    "        self.hidden2 = torch.nn.Linear(n_hidden1,n_hidden2)\n",
    "        #self.bn2 = torch.nn.BatchNorm1d(n_hidden2,affine=False)\n",
    "        #self.relu2 = torch.nn.LeakyReLU()\n",
    "        #self.do2 = torch.nn.Dropout(0.1)\n",
    "        self.predict = torch.nn.Linear(n_hidden2,n_output)\n",
    "        \n",
    "        \n",
    "    def forward(self,x):\n",
    "        x = self.hidden1(x)\n",
    "        x = torch.sigmoid(x)\n",
    "        #x = self.do1(x)\n",
    "        x = self.hidden2(x)\n",
    "        x = torch.sigmoid(x)\n",
    "        #x = self.do2(x)\n",
    "        x = self.predict(x)\n",
    "        return x"
   ]
  },
  {
   "cell_type": "code",
   "execution_count": 42,
   "id": "094f4f5e",
   "metadata": {},
   "outputs": [],
   "source": [
    "#instantiate the Neural Network\n",
    "#model = NN(n_feature=2,n_hidden1=17,n_hidden2=7, n_output=1)\n",
    "model = NN(n_feature=2,n_hidden1=100,n_hidden2=100, n_output=1)"
   ]
  },
  {
   "cell_type": "code",
   "execution_count": 43,
   "id": "2f3a93a0",
   "metadata": {},
   "outputs": [],
   "source": [
    "#Define loss function : \n",
    "# here we use Mean Square Error as the loss function\n",
    "loss_func = torch.nn.MSELoss()"
   ]
  },
  {
   "cell_type": "code",
   "execution_count": 44,
   "id": "bb61a9e9",
   "metadata": {},
   "outputs": [],
   "source": [
    "#Define the optimizer that should be used in training the Neural Network.\n",
    "# Here 'lr' is the learning rate\n",
    "optimizer = torch.optim.Adam(model.parameters(),lr=0.01)"
   ]
  },
  {
   "cell_type": "code",
   "execution_count": 45,
   "id": "8e8563f9",
   "metadata": {},
   "outputs": [],
   "source": [
    "train_set_inputs = train_set[:,:2]\n",
    "#TODO: calculate the mean value of the train_set_inputs. \n",
    "mean_of_train_input = torch.mean(train_set_inputs,0)\n",
    "#standard deviation of the train set inputs.\n",
    "std_of_the_train_input = torch.std(train_set_inputs,0)\n",
    "#here we normalize the inputs of the neural network. What is the importance of that?\n",
    "normalized_train_set_inputs = (train_set_inputs - mean_of_train_input)/std_of_the_train_input"
   ]
  },
  {
   "cell_type": "code",
   "execution_count": 46,
   "id": "84e10aa4",
   "metadata": {},
   "outputs": [],
   "source": [
    "#targets of the training set\n",
    "train_set_targets = train_set[:,2][:,np.newaxis]"
   ]
  },
  {
   "cell_type": "code",
   "execution_count": 47,
   "id": "3b66a79b",
   "metadata": {},
   "outputs": [
    {
     "name": "stdout",
     "output_type": "stream",
     "text": [
      "torch.Size([66, 2])\n",
      "torch.Size([66, 1])\n"
     ]
    }
   ],
   "source": [
    "print(normalized_train_set_inputs.shape)\n",
    "print(train_set_targets.shape)"
   ]
  },
  {
   "cell_type": "code",
   "execution_count": 48,
   "id": "4ceb0ebf",
   "metadata": {},
   "outputs": [],
   "source": [
    "#TODO: train the Neural network model by changing the hyper parameters such as learning rate, number of epochs, number of neurons in hidden layers of the neural network.\n",
    "# What is the minimum mean square error that you can achieve as your neural network converges for the training set.\n",
    "#  (you will be able to achive a MSE of less than 10 as the Neural network converges.)\n",
    "num_epochs = 2000\n",
    "losslist = []\n",
    "for _ in range(num_epochs):\n",
    "    with torch.autocast(device_type=\"cpu\", dtype=torch.bfloat16):\n",
    "        prediction = model(normalized_train_set_inputs) # Forward pass prediction. Saves intermediary values required for backwards pass\n",
    "        loss = loss_func(prediction, train_set_targets) # Computes the loss for each example, using the loss function defined above\n",
    "    optimizer.zero_grad() # Clears gradients from previous iteration\n",
    "    loss.backward() # Backpropagation of errors through the network\n",
    "    optimizer.step() # Updating weights\n",
    "    # print(\"prediction =\",prediction)\n",
    "    # print(\"Loss: \", loss.detach().numpy())\n",
    "    losslist.append(loss.detach().numpy())"
   ]
  },
  {
   "cell_type": "code",
   "execution_count": null,
   "id": "8fd85b9c",
   "metadata": {},
   "outputs": [],
   "source": [
    "print(\"Loss: \", losslist)"
   ]
  },
  {
   "cell_type": "code",
   "execution_count": 49,
   "id": "db3192e0",
   "metadata": {},
   "outputs": [
    {
     "data": {
      "image/png": "[encoded data removed]",
      "text/plain": [
       "<Figure size 640x480 with 1 Axes>"
      ]
     },
     "metadata": {},
     "output_type": "display_data"
    }
   ],
   "source": [
    "#plot the mean square error in each epoch/iteration\n",
    "plt.plot(np.arange(len(losslist)),losslist)\n",
    "plt.show()"
   ]
  },
  {
   "cell_type": "code",
   "execution_count": 50,
   "id": "4ab4a68e",
   "metadata": {},
   "outputs": [],
   "source": [
    "#save the best neural network model you have obtained.\n",
    "torch.save(model.state_dict(), 'best_nn_model.pth')\n",
    "\n",
    "#Save the mean and standard deviation of the train set inputs because we need to use them at test time."
   ]
  },
  {
   "cell_type": "code",
   "execution_count": 51,
   "id": "5b511aa8",
   "metadata": {},
   "outputs": [
    {
     "data": {
      "text/plain": [
       "<All keys matched successfully>"
      ]
     },
     "execution_count": 51,
     "metadata": {},
     "output_type": "execute_result"
    }
   ],
   "source": [
    "#reload the your best neural network model with saved parameters\n",
    "model = NN(n_feature=2,n_hidden1=100,n_hidden2=100, n_output=1)\n",
    "model.load_state_dict(torch.load('best_nn_model.pth'))"
   ]
  },
  {
   "cell_type": "code",
   "execution_count": 52,
   "id": "ab535de2",
   "metadata": {},
   "outputs": [
    {
     "name": "stdout",
     "output_type": "stream",
     "text": [
      "tensor([[ 20.,  -2.],\n",
      "        [  0.,   0.],\n",
      "        [  0.,  -2.],\n",
      "        [ -3.,   1.],\n",
      "        [-27.,   2.],\n",
      "        [-10.,   0.],\n",
      "        [-20.,   2.],\n",
      "        [  0.,   0.],\n",
      "        [-15.,   0.],\n",
      "        [  7.,   0.],\n",
      "        [  4.,   0.],\n",
      "        [ -8.,   2.],\n",
      "        [  0.,   1.],\n",
      "        [  7.,  -1.],\n",
      "        [  2.,   0.],\n",
      "        [ -7.,   1.]])\n"
     ]
    }
   ],
   "source": [
    "#TODO: Extract inputs of the test_set\n",
    "test_set_inputs = test_set[:,:2]\n",
    "#TODO: Extract test set targets from the test_set\n",
    "test_set_targets = test_set[:,2][:,np.newaxis]\n",
    "print(test_set_inputs)"
   ]
  },
  {
   "cell_type": "code",
   "execution_count": 53,
   "id": "16007b0a",
   "metadata": {},
   "outputs": [
    {
     "name": "stdout",
     "output_type": "stream",
     "text": [
      "tensor([[ 1.1976, -2.2343],\n",
      "        [-0.0491,  0.1064],\n",
      "        [-0.0491, -2.2343],\n",
      "        [-0.2361,  1.2768],\n",
      "        [-1.7322,  2.4471],\n",
      "        [-0.6725,  0.1064],\n",
      "        [-1.2959,  2.4471],\n",
      "        [-0.0491,  0.1064],\n",
      "        [-0.9842,  0.1064],\n",
      "        [ 0.3872,  0.1064],\n",
      "        [ 0.2002,  0.1064],\n",
      "        [-0.5478,  2.4471],\n",
      "        [-0.0491,  1.2768],\n",
      "        [ 0.3872, -1.0640],\n",
      "        [ 0.0756,  0.1064],\n",
      "        [-0.4855,  1.2768]])\n"
     ]
    }
   ],
   "source": [
    "#TODO: Normalize test set inputs by using the mean and standard deviation of the inputs of the training set\n",
    "normalized_test_set_inputs = (test_set_inputs - mean_of_train_input)/std_of_the_train_input\n",
    "# print(normalized_test_set_inputs)"
   ]
  },
  {
   "cell_type": "code",
   "execution_count": 54,
   "id": "d504e4b0",
   "metadata": {},
   "outputs": [],
   "source": [
    "#TODO: feed the normalized test set inputs to the Neural Network model and obtain the prediction for the test set.\n",
    "prediction_test = model(normalized_test_set_inputs)"
   ]
  },
  {
   "cell_type": "code",
   "execution_count": 55,
   "id": "ab886182",
   "metadata": {},
   "outputs": [
    {
     "name": "stdout",
     "output_type": "stream",
     "text": [
      "torch.Size([16, 1])\n"
     ]
    }
   ],
   "source": [
    "print(prediction_test.shape)"
   ]
  },
  {
   "cell_type": "code",
   "execution_count": 56,
   "id": "84590f5d",
   "metadata": {},
   "outputs": [
    {
     "name": "stdout",
     "output_type": "stream",
     "text": [
      "tensor([[-6.6209],\n",
      "        [ 1.4833],\n",
      "        [ 0.5259],\n",
      "        [ 5.0637],\n",
      "        [ 0.4135],\n",
      "        [ 4.1329],\n",
      "        [ 4.1863],\n",
      "        [ 1.4833],\n",
      "        [ 0.5290],\n",
      "        [-5.2244],\n",
      "        [ 1.4476],\n",
      "        [ 5.3167],\n",
      "        [-6.0812],\n",
      "        [-6.3278],\n",
      "        [ 2.0111],\n",
      "        [ 4.9987]], grad_fn=<AddmmBackward0>)\n"
     ]
    },
    {
     "data": {
      "text/plain": [
       "[<matplotlib.lines.Line2D at 0x1ea4f42a850>]"
      ]
     },
     "execution_count": 56,
     "metadata": {},
     "output_type": "execute_result"
    },
    {
     "data": {
      "image/png": "[encoded data removed]",
      "text/plain": [
       "<Figure size 640x480 with 1 Axes>"
      ]
     },
     "metadata": {},
     "output_type": "display_data"
    }
   ],
   "source": [
    "#plot the prediction error of the test set\n",
    "test_set_prediction_error = prediction_test - test_set_targets\n",
    "# print(prediction_test)\n",
    "plt.plot(np.arange(len(test_set_prediction_error.tolist())),test_set_prediction_error.tolist())"
   ]
  },
  {
   "cell_type": "code",
   "execution_count": null,
   "id": "4334cb5d",
   "metadata": {},
   "outputs": [],
   "source": [
    "# In the example model trained with about 600 data, from a test set of 165 samples,\n",
    "# 159 samples are predicted with prediction error less than 10."
   ]
  },
  {
   "cell_type": "code",
   "execution_count": null,
   "id": "efc5d782",
   "metadata": {},
   "outputs": [],
   "source": [
    "#TODO: Based on the prediction error of the test set, you can try to train the neural network again by changing the hyper parameters mentioned above.\n",
    "# Also Try to add Dropout layers to the Neural network and check whether test prediction errors can be reduced further."
   ]
  },
  {
   "cell_type": "markdown",
   "id": "ffd3979d",
   "metadata": {},
   "source": [
    "# DETECTING THE OBJECT AT TESTING PHASE"
   ]
  },
  {
   "cell_type": "code",
   "execution_count": 114,
   "id": "00fdb31b",
   "metadata": {},
   "outputs": [],
   "source": [
    "A = 130\n",
    "T = 200"
   ]
  },
  {
   "cell_type": "code",
   "execution_count": 115,
   "id": "8ceeb74b",
   "metadata": {},
   "outputs": [
    {
     "data": {
      "text/plain": [
       "0"
      ]
     },
     "execution_count": 115,
     "metadata": {},
     "output_type": "execute_result"
    }
   ],
   "source": [
    "api.setPos(-90,90,moduleID)"
   ]
  },
  {
   "cell_type": "code",
   "execution_count": 70,
   "id": "2cc71478",
   "metadata": {},
   "outputs": [
    {
     "name": "stdout",
     "output_type": "stream",
     "text": [
      "365 198\n"
     ]
    }
   ],
   "source": [
    "#TODO: Detect the target object and obtain the coordinates of the object in the image\n",
    "cam = ct.prepare_camera()\n",
    "img = ct.capture_image(cam)\n",
    "# ct.show_camera(cam, low_green, high_green)\n",
    "x,y = ct.locate(img, low_green, high_green)\n",
    "print(x,y)\n",
    "target_x = x\n",
    "target_y = y\n",
    "# print(\"target_x = \",target_x)\n",
    "# print(\"target_y = \",target_y)"
   ]
  },
  {
   "cell_type": "code",
   "execution_count": 128,
   "id": "ea96341c",
   "metadata": {},
   "outputs": [
    {
     "data": {
      "text/plain": [
       "0"
      ]
     },
     "execution_count": 128,
     "metadata": {},
     "output_type": "execute_result"
    }
   ],
   "source": [
    "api.setPos(-90,0,moduleID)"
   ]
  },
  {
   "cell_type": "code",
   "execution_count": 129,
   "id": "df8744fd",
   "metadata": {},
   "outputs": [
    {
     "name": "stdout",
     "output_type": "stream",
     "text": [
      "[12.0, 0.0]\n",
      "[-3.9166013198433234, 0.0]\n",
      "[12.162767538810726, 0.0]\n",
      "[0.23408073140683427, 0.0]\n",
      "[2.2933203633595554, 0.0]\n",
      "[12.336480455230003, 0.0]\n",
      "[4.3595708961441915, 0.0]\n",
      "[6.358621381550506, 0.0]\n",
      "[-5.670314668568892, 0.0]\n",
      "[-1.7311562149001816, 0.0]\n",
      "[16.17220926874313, 0.0]\n",
      "[8.035929631887882, 0.0]\n",
      "[-3.1438081509918447, 0.0]\n",
      "[11.629225782521473, 0.0]\n",
      "[3.3513079034594284, 0.0]\n",
      "[15.018764966141077, 0.0]\n",
      "[0.6279776332229972, 0.0]\n",
      "[-5.8246159524517225, 0.0]\n",
      "[-2.34251665273041, 0.0]\n",
      "[13.07083912077701, 0.0]\n",
      "[4.412082798021515, 0.0]\n",
      "[-4.322083025113045, 0.0]\n",
      "[16.865118667329625, 0.0]\n",
      "[21.970542492074742, 0.0]\n",
      "[22.99112377072953, 0.0]\n",
      "[21.92388155425118, 0.0]\n",
      "[22.765921564783525, 0.0]\n",
      "[23.514439051959698, 0.0]\n",
      "[12.16672156085258, 0.0]\n",
      "[0.7201516088397284, 0.0]\n",
      "[-10.827790731256869, 0.0]\n",
      "[-0.47952534430697824, 0.0]\n",
      "[9.762630315261958, 0.0]\n",
      "[7.89646351051266, 0.0]\n",
      "[-2.080131594297711, 0.0]\n",
      "[10.830848144487845, 0.0]\n",
      "[1.627516820582514, 0.0]\n",
      "[-0.6918986610824618, 0.0]\n",
      "[8.870943165472681, 0.0]\n",
      "[6.3144999640493324, 0.0]\n",
      "[-5.3626528816300265, 0.0]\n",
      "[-3.1618208619973984, 0.0]\n",
      "[9.915810946722047, 0.0]\n",
      "[4.869179052037168, 0.0]\n",
      "[-2.302657405270452, 0.0]\n",
      "[7.399484277367947, 0.0]\n",
      "[-3.0250888291178626, 0.0]\n",
      "[5.423055398400379, 0.0]\n",
      "[-2.2565253043246685, 0.0]\n",
      "[4.935852847545107, 0.0]\n",
      "[-2.0, 0.0]\n",
      "[7.935852847545107, 0.0]\n",
      "[-2.2565253043246685, 0.0]\n",
      "[7.423055398400379, 0.0]\n",
      "[-3.0250888291178626, 0.0]\n",
      "[4.399484277367947, 0.0]\n",
      "[1.6973425947295482, 0.0]\n",
      "[-1.1308209479628317, 0.0]\n",
      "[5.915810946722047, 0.0]\n",
      "[-7.161820861997398, 0.0]\n",
      "[-8.362652881630027, 0.0]\n",
      "[-0.6855000359506676, 0.0]\n",
      "[6.870943165472681, 0.0]\n",
      "[-6.691898661082462, 0.0]\n",
      "[-10.372483179417486, 0.0]\n",
      "[-6.169151855512155, 0.0]\n",
      "[-8.080131594297768, 0.0]\n",
      "[-0.10353648948733962, 0.0]\n",
      "[1.7626303152619585, 0.0]\n",
      "[-0.47952534430697824, 0.0]\n",
      "[5.172209268743188, 0.0]\n",
      "[-7.279848391160272, 0.0]\n",
      "[-9.83327843914742, 0.0]\n",
      "[-6.485560948040245, 0.0]\n",
      "[-11.234078435216531, 0.0]\n",
      "[-5.076118445748818, 0.0]\n",
      "[-3.00887622927047, 0.0]\n",
      "[7.970542492074742, 0.0]\n",
      "[-7.134881332670318, 0.0]\n",
      "[-10.322083025113102, 0.0]\n",
      "[-7.587917201978485, 0.0]\n",
      "[-2.929160879222991, 0.0]\n",
      "[5.65748334726959, 0.0]\n",
      "[-9.824615952451722, 0.0]\n",
      "[-5.372022366777003, 0.0]\n",
      "[-4.981235033858923, 0.0]\n",
      "[-0.6486920965405147, 0.0]\n",
      "[5.62922578252153, 0.0]\n",
      "[-12.143808150991845, 0.0]\n",
      "[-7.964070368112118, 0.0]\n",
      "[2.172209268743188, 0.0]\n",
      "[2.2688437850998184, 0.0]\n",
      "[6.329685331431165, 0.0]\n",
      "[-11.641378618449437, 0.0]\n",
      "[-7.6404291038558085, 0.0]\n",
      "[-1.663519544769997, 0.0]\n",
      "[6.293320363359612, 0.0]\n",
      "[-13.765919268593109, 0.0]\n",
      "[-11.837232461189217, 0.0]\n",
      "[-3.9166013198433234, 0.0]\n",
      "[4.0, 0.0]\n",
      "[1.9166013198433802, 0.0]\n",
      "[-0.16276753881072636, 0.0]\n",
      "[3.7659192685931657, 0.0]\n",
      "[5.706679636640445, 0.0]\n",
      "[-18.336480455230003, 0.0]\n",
      "[-22.35957089614419, 0.0]\n",
      "[-26.358621381550506, 0.0]\n",
      "[-30.329685331431108, 0.0]\n",
      "[-34.26884378509976, 0.0]\n",
      "[-38.17220926874313, 0.0]\n",
      "[-42.03592963188788, 0.0]\n",
      "[-45.85619184900813, 0.0]\n",
      "[-49.629225782521445, 0.0]\n",
      "[-53.3513079034594, 0.0]\n",
      "[-57.018764966141134, 0.0]\n",
      "[-60.627977633223, 0.0]\n",
      "[-64.17538404754828, 0.0]\n",
      "[-67.65748334726953, 0.0]\n",
      "[-71.07083912077695, 0.0]\n",
      "[-74.41208279802146, 0.0]\n",
      "[-77.67791697488695, 0.0]\n",
      "[-80.86511866732965, 0.0]\n",
      "[-83.97054249207474, 0.0]\n",
      "[-86.99112377072947, 0.0]\n",
      "[-89.92388155425112, 0.0]\n",
      "[-92.7659215647835, 0.0]\n",
      "[-95.51443905195973, 0.0]\n",
      "[-98.16672156085264, 0.0]\n",
      "[-100.72015160883976, 0.0]\n",
      "[-103.17220926874316, 0.0]\n",
      "[-105.52047465569302, 0.0]\n",
      "[-107.76263031526199, 0.0]\n",
      "[-109.89646351051269, 0.0]\n",
      "[-111.91986840570226, 0.0]\n",
      "[-113.83084814448782, 0.0]\n",
      "[-115.62751682058257, 0.0]\n",
      "[-117.30810133891757, 0.0]\n",
      "[-118.87094316547268, 0.0]\n",
      "[-120.3144999640493, 0.0]\n",
      "[-121.63734711836997, 0.0]\n",
      "[-122.8381791380026, 0.0]\n",
      "[-123.91581094672205, 0.0]\n",
      "[-124.86917905203717, 0.0]\n",
      "[-125.69734259472955, 0.0]\n",
      "[-126.39948427736789, 0.0]\n",
      "[-126.97491117088211, 0.0]\n",
      "[-127.42305539840041, 0.0]\n",
      "[-127.7434746956753, 0.0]\n",
      "[-127.9358528475451, 0.0]\n",
      "[-128.0, 0.0]\n",
      "[-127.9358528475451, 0.0]\n",
      "[-127.7434746956753, 0.0]\n",
      "[-127.42305539840041, 0.0]\n",
      "[-126.97491117088214, 0.0]\n",
      "[-126.39948427736792, 0.0]\n",
      "[-125.69734259472955, 0.0]\n",
      "[-124.86917905203717, 0.0]\n",
      "[-123.91581094672205, 0.0]\n",
      "[-122.8381791380026, 0.0]\n",
      "[-121.63734711836997, 0.0]\n",
      "[-120.31449996404933, 0.0]\n",
      "[-118.87094316547271, 0.0]\n",
      "[-117.3081013389176, 0.0]\n",
      "[-115.62751682058257, 0.0]\n",
      "[-113.8308481444879, 0.0]\n",
      "[-111.91986840570223, 0.0]\n",
      "[-109.89646351051266, 0.0]\n",
      "[-107.76263031526196, 0.0]\n",
      "[-105.52047465569302, 0.0]\n",
      "[-103.17220926874319, 0.0]\n",
      "[-100.72015160883979, 0.0]\n",
      "[-98.16672156085264, 0.0]\n",
      "[-95.51443905195981, 0.0]\n",
      "[-92.76592156478358, 0.0]\n",
      "[-89.9238815542513, 0.0]\n",
      "[-86.99112377072956, 0.0]\n",
      "[-83.97054249207471, 0.0]\n",
      "[-80.86511866732965, 0.0]\n",
      "[-77.67791697488695, 0.0]\n",
      "[-74.41208279802154, 0.0]\n",
      "[-71.07083912077701, 0.0]\n",
      "[-67.65748334726962, 0.0]\n",
      "[-64.17538404754836, 0.0]\n",
      "[-60.62797763322311, 0.0]\n",
      "[-57.018764966141106, 0.0]\n",
      "[-53.351307903459485, 0.0]\n",
      "[-49.629225782521445, 0.0]\n",
      "[-45.85619184900813, 0.0]\n",
      "[-42.03592963188788, 0.0]\n",
      "[-38.17220926874319, 0.0]\n",
      "[-34.268843785099875, 0.0]\n",
      "[-30.329685331431165, 0.0]\n",
      "[-26.35862138155062, 0.0]\n",
      "[-22.35957089614419, 0.0]\n",
      "[-18.33648045523006, 0.0]\n",
      "[-14.293320363359612, 0.0]\n",
      "[-8.234080731406948, 0.0]\n",
      "[11.837232461189274, 0.0]\n",
      "[-4.083398680156677, 0.0]\n"
     ]
    },
    {
     "data": {
      "image/png": "[encoded data removed]",
      "text/plain": [
       "<Figure size 640x480 with 1 Axes>"
      ]
     },
     "metadata": {},
     "output_type": "display_data"
    }
   ],
   "source": [
    "#Here we implement the control loop which is having Neural Network as the controller.\n",
    "#In this case we donot integrate CMAC to the control loop\n",
    "def ControlLoopWithNNWithoutCMAC(target__x_coordinate,target__y_coordinate):\n",
    "\n",
    "\n",
    "    x_ref_vec = []\n",
    "    x_act_vec = []\n",
    "\n",
    "    number_of_iterations_for_convergence = 0\n",
    "    #TODO:Intialize your best neural network model and load the saved paramemeters\n",
    "    NN_model = NN(n_feature=2,n_hidden1=100,n_hidden2=100, n_output=1)\n",
    "    NN_model.load_state_dict(torch.load('best_nn_model.pth'))\n",
    "    \n",
    "    #Here we loop for 50 iterations assuming that \n",
    "    # the controller should achieve the desired target within atmost 50 iterations\n",
    "    for i in range(200):\n",
    "        cam = ct.prepare_camera()\n",
    "        img = ct.capture_image(cam)\n",
    "        x,y = ct.locate(img,low_green, high_green)\n",
    "\n",
    "        # cam_red = ct.prepare_camera()\n",
    "        # img_red = ct.capture_image(cam)\n",
    "        # x_red,y_red = ct.locate(img,low_red, high_red)\n",
    "\n",
    "        # print(x,y)\n",
    "\n",
    "        x_ref = A * np.sin(2*np.pi * i/T) + 300\n",
    "        # x_ref = 450\n",
    "        y_ref = y\n",
    "\n",
    "        x_ref_vec.append(x_ref)\n",
    "        x_act_vec.append(x)\n",
    "\n",
    "        # print(i, x, x_ref)\n",
    "\n",
    "        x_ref = float(x_ref)\n",
    "        y_ref = float(y_ref)\n",
    "\n",
    "        robot_x_coord_in_image = x\n",
    "        robot_y_coord_in_image = y\n",
    "        x_coord_error = x_ref - robot_x_coord_in_image;\n",
    "        y_coord_error = y_ref - robot_y_coord_in_image;\n",
    "\n",
    "        #Here if the errors are less than twenty pixels we assume robot reaches the target. \n",
    "        # However you can choose any reasonable threshold value instead of 20.\n",
    "        # if (np.abs(x_coord_error) < (1+x_prev*1.02) and np.abs(y_coord_error) < (1+y_coord_error*1.02)):\n",
    "        #     print(\"number of iterations for convergence = \", number_of_iterations_for_convergence)\n",
    "        #     break\n",
    "\n",
    "        xy_input_nn_model = [x_coord_error, y_coord_error]\n",
    "        # print(xy_input_nn_model)\n",
    "        \n",
    "        #TODO: normalize the input to the Neural network model using meaning and variance of the training set inputs.\n",
    "        normalize_xy_input_nn_model = (torch.tensor(xy_input_nn_model) - mean_of_train_input)/std_of_the_train_input\n",
    "\n",
    "        prediction_for_Y_pos_increment = NN_model(normalize_xy_input_nn_model)\n",
    "\n",
    "        #TODO: Get the current Y (angular) position/angle of the robot. you can use the api.getPos function of fable\n",
    "        robot_current_Y_pos = api.getPos(1,moduleID)\n",
    "        #Next Y angular position of the robot will be robot_Y_pos + prediction_for_Y_pos_increment\n",
    "        robot_next_Y_pos = robot_current_Y_pos + prediction_for_Y_pos_increment\n",
    "        # print(robot_next_Y_pos)\n",
    "        #TODO: Set the next position of the robot to (-90,robot_next_Y_pos) using the setPos function of the fable.\n",
    "        api.setPos(-90,robot_next_Y_pos,moduleID)\n",
    "        api.sleep(0.3)\n",
    "        number_of_iterations_for_convergence = number_of_iterations_for_convergence + 1\n",
    "\n",
    "    return [x_ref_vec,x_act_vec]\n",
    "\n",
    "#TODO: Call the control loop for a target which is detected. Record the number of iterations that the control loop spent for convergence.\n",
    "[x_ref_vec, x_act_vec] = ControlLoopWithNNWithoutCMAC(target_x,target_y)\n",
    "#TODO: change your target location and try again. You may change the target 4-5 times and check how the control loop work.\n",
    "#Record the number of iterations that the control loop spent for convergence.\n",
    "plt.plot(np.arange(len(x_ref_vec)),x_ref_vec)\n",
    "plt.plot(np.arange(len(x_act_vec)),x_act_vec)\n",
    "plt.show()"
   ]
  },
  {
   "cell_type": "code",
   "execution_count": 146,
   "id": "e9ec2072",
   "metadata": {},
   "outputs": [
    {
     "data": {
      "text/plain": [
       "0"
      ]
     },
     "execution_count": 146,
     "metadata": {},
     "output_type": "execute_result"
    }
   ],
   "source": [
    "api.setPos(-90,90,moduleID)"
   ]
  },
  {
   "cell_type": "code",
   "execution_count": 147,
   "id": "5cdd72be",
   "metadata": {},
   "outputs": [
    {
     "name": "stderr",
     "output_type": "stream",
     "text": [
      "d:\\visualstudio\\Bioinspired_Marcel\\Bioinspired-Marcel\\Final_project\\cmac2.py:16: RuntimeWarning: divide by zero encountered in scalar divide\n",
      "  self.sigma[k] = 0.5/np.sqrt(-np.log(crossval)) * (xmax[k] - xmin[k])/(self.n_rfs-1) # RFs cross at phi = crossval\n"
     ]
    },
    {
     "name": "stdout",
     "output_type": "stream",
     "text": [
      "0 138 450.0\n",
      "1 136 450.0\n",
      "2 136 450.0\n",
      "3 138 450.0\n",
      "4 136 450.0\n",
      "5 136 450.0\n",
      "6 137 450.0\n",
      "7 140 450.0\n",
      "8 140 450.0\n",
      "9 140 450.0\n",
      "10 140 450.0\n",
      "11 140 450.0\n",
      "12 140 450.0\n",
      "13 139 450.0\n",
      "14 140 450.0\n",
      "15 140 450.0\n",
      "16 138 450.0\n",
      "17 138 450.0\n",
      "18 136 450.0\n",
      "19 136 450.0\n",
      "20 138 450.0\n",
      "21 136 450.0\n",
      "22 136 450.0\n",
      "23 136 450.0\n",
      "24 138 450.0\n",
      "25 140 450.0\n",
      "26 140 450.0\n",
      "27 140 450.0\n",
      "28 140 450.0\n",
      "29 140 450.0\n",
      "30 140 450.0\n",
      "31 140 450.0\n",
      "32 140 450.0\n",
      "33 140 450.0\n",
      "34 140 450.0\n",
      "35 140 450.0\n",
      "36 140 450.0\n",
      "37 140 450.0\n",
      "38 140 450.0\n",
      "39 140 450.0\n",
      "40 140 450.0\n",
      "41 140 450.0\n",
      "42 140 450.0\n",
      "43 140 450.0\n",
      "44 140 450.0\n",
      "45 140 450.0\n",
      "46 140 450.0\n",
      "47 140 450.0\n",
      "48 140 450.0\n",
      "49 140 450.0\n",
      "50 140 450.0\n",
      "51 140 450.0\n",
      "52 140 450.0\n",
      "53 140 450.0\n",
      "54 140 450.0\n",
      "55 140 450.0\n",
      "56 140 450.0\n",
      "57 140 450.0\n",
      "58 140 450.0\n",
      "59 140 450.0\n",
      "60 140 450.0\n",
      "61 140 450.0\n",
      "62 140 450.0\n",
      "63 140 450.0\n",
      "64 137 450.0\n",
      "65 138 450.0\n",
      "66 136 450.0\n",
      "67 137 450.0\n",
      "68 137 450.0\n",
      "69 137 450.0\n",
      "70 137 450.0\n",
      "71 137 450.0\n",
      "72 137 450.0\n",
      "73 137 450.0\n",
      "74 138 450.0\n",
      "75 137 450.0\n",
      "76 138 450.0\n",
      "77 138 450.0\n",
      "78 138 450.0\n",
      "79 138 450.0\n",
      "80 138 450.0\n",
      "81 137 450.0\n",
      "82 138 450.0\n",
      "83 138 450.0\n",
      "84 138 450.0\n",
      "85 138 450.0\n",
      "86 137 450.0\n",
      "87 137 450.0\n"
     ]
    },
    {
     "ename": "KeyboardInterrupt",
     "evalue": "",
     "output_type": "error",
     "traceback": [
      "\u001b[1;31m---------------------------------------------------------------------------\u001b[0m",
      "\u001b[1;31mKeyboardInterrupt\u001b[0m                         Traceback (most recent call last)",
      "Cell \u001b[1;32mIn[147], line 92\u001b[0m\n\u001b[0;32m     88\u001b[0m         number_of_iterations_for_convergence \u001b[38;5;241m=\u001b[39m number_of_iterations_for_convergence \u001b[38;5;241m+\u001b[39m \u001b[38;5;241m1\u001b[39m\n\u001b[0;32m     90\u001b[0m     \u001b[38;5;28;01mreturn\u001b[39;00m [x_ref_vec,x_act_vec]\n\u001b[1;32m---> 92\u001b[0m [x_ref_vec,x_act_vec] \u001b[38;5;241m=\u001b[39m \u001b[43mControlLoopWithBothNNandCMAC\u001b[49m\u001b[43m(\u001b[49m\u001b[38;5;241;43m0\u001b[39;49m\u001b[43m,\u001b[49m\u001b[38;5;241;43m0\u001b[39;49m\u001b[43m,\u001b[49m\u001b[43m \u001b[49m\u001b[38;5;241;43m200\u001b[39;49m\u001b[43m)\u001b[49m\n\u001b[0;32m     93\u001b[0m plt\u001b[38;5;241m.\u001b[39mplot(np\u001b[38;5;241m.\u001b[39marange(\u001b[38;5;28mlen\u001b[39m(x_ref_vec)),x_ref_vec)\n\u001b[0;32m     94\u001b[0m plt\u001b[38;5;241m.\u001b[39mplot(np\u001b[38;5;241m.\u001b[39marange(\u001b[38;5;28mlen\u001b[39m(x_act_vec)),x_act_vec)\n",
      "Cell \u001b[1;32mIn[147], line 31\u001b[0m, in \u001b[0;36mControlLoopWithBothNNandCMAC\u001b[1;34m(target_x, target_y, iter_num)\u001b[0m\n\u001b[0;32m     28\u001b[0m \u001b[38;5;66;03m## Simulation loop\u001b[39;00m\n\u001b[0;32m     29\u001b[0m \u001b[38;5;28;01mfor\u001b[39;00m i \u001b[38;5;129;01min\u001b[39;00m \u001b[38;5;28mrange\u001b[39m(max_iter):\n\u001b[1;32m---> 31\u001b[0m     cam \u001b[38;5;241m=\u001b[39m \u001b[43mct\u001b[49m\u001b[38;5;241;43m.\u001b[39;49m\u001b[43mprepare_camera\u001b[49m\u001b[43m(\u001b[49m\u001b[43m)\u001b[49m\n\u001b[0;32m     32\u001b[0m     img \u001b[38;5;241m=\u001b[39m ct\u001b[38;5;241m.\u001b[39mcapture_image(cam)\n\u001b[0;32m     33\u001b[0m     x,y \u001b[38;5;241m=\u001b[39m ct\u001b[38;5;241m.\u001b[39mlocate(img,low_green, high_green)\n",
      "File \u001b[1;32mc:\\Users\\Marcel\\.conda\\envs\\biocontrol_fix\\Lib\\site-packages\\camera_tools\\camera_tools.py:6\u001b[0m, in \u001b[0;36mprepare_camera\u001b[1;34m()\u001b[0m\n\u001b[0;32m      5\u001b[0m \u001b[38;5;28;01mdef\u001b[39;00m \u001b[38;5;21mprepare_camera\u001b[39m():\n\u001b[1;32m----> 6\u001b[0m     \u001b[38;5;28;01mreturn\u001b[39;00m \u001b[43mcv2\u001b[49m\u001b[38;5;241;43m.\u001b[39;49m\u001b[43mVideoCapture\u001b[49m\u001b[43m(\u001b[49m\u001b[38;5;241;43m0\u001b[39;49m\u001b[43m)\u001b[49m\n",
      "\u001b[1;31mKeyboardInterrupt\u001b[0m: "
     ]
    }
   ],
   "source": [
    "#Now integrate the CMAC to the previous control loop which had only the Neural Network. \n",
    "#The implementation of the CMAC can be found in code given for second week exercises.\n",
    "#TODO: Implement the control loop with both neural network and CMAC. \n",
    "def ControlLoopWithBothNNandCMAC(target_x, target_y, iter_num):\n",
    "    \n",
    "    # api.setPos(-90,0,moduleID)\n",
    "    target_x_coord = target_x\n",
    "    target_y_coord = target_y\n",
    "\n",
    "    x_ref_vec = []\n",
    "    x_act_vec = []\n",
    "\n",
    "    number_of_iterations_for_convergence = 0\n",
    "    max_iter = iter_num\n",
    "    #TODO:Intialize your best neural network model and load the saved paramemeters\n",
    "    NN_model = NN(n_feature=2,n_hidden1=100,n_hidden2=100, n_output=1)\n",
    "    NN_model.load_state_dict(torch.load('best_nn_model.pth'))\n",
    "\n",
    "    ## TODO: CMAC initialization\n",
    "    n_rfs = 1\n",
    "    beta = 0.01\n",
    "\n",
    "    xmin = [152,152]\n",
    "    xmax = [448, 448]\n",
    "\n",
    "    c = CMAC(n_rfs, xmin, xmax, beta)\n",
    "\n",
    "    ## Simulation loop\n",
    "    for i in range(max_iter):\n",
    "       \n",
    "        cam = ct.prepare_camera()\n",
    "        img = ct.capture_image(cam)\n",
    "        x,y = ct.locate(img,low_green, high_green)\n",
    "\n",
    "        # cam_red = ct.prepare_camera()\n",
    "        # img_red = ct.capture_image(cam)\n",
    "        # x_red,y_red = ct.locate(img,low_red, high_red)\n",
    "\n",
    "        # x_ref = A * np.sin(2*np.pi * i/T) + 300\n",
    "        x_ref = 450\n",
    "        y_ref = y\n",
    "\n",
    "        x_ref = float(x_ref)\n",
    "        y_ref = float(y_ref)\n",
    "\n",
    "        print(i, x, x_ref)\n",
    "\n",
    "        x_ref_vec.append(x_ref)\n",
    "        x_act_vec.append(x)\n",
    "\n",
    "        # print(x,y)\n",
    "        robot_x_coord_in_image = x\n",
    "        robot_y_coord_in_image = y\n",
    "        x_coord_error = x_ref - robot_x_coord_in_image;\n",
    "        y_coord_error = y_ref - robot_y_coord_in_image;\n",
    "        \n",
    "        ## TODO: Implement the CMAC controller into the loop\n",
    "        x_cmac = [x_ref ,robot_x_coord_in_image]\n",
    "        angle_cmac = c.predict(x_cmac)\n",
    "\n",
    "        # print(x_cmac)        \n",
    "    \n",
    "        #Here if the errors are less than twenty pixels we assume robot reaches the target. \n",
    "        # However you can choose any reasonable threshold value instead of 20.\n",
    "        # if (np.abs(x_coord_error) < (1+x_prev*1.02) and np.abs(y_coord_error) < (1+y_coord_error*1.02)):\n",
    "        #     print(\"number of iterations for convergence = \", number_of_iterations_for_convergence)\n",
    "        #     break\n",
    "        \n",
    "        xy_input_nn_model = [x_coord_error,y_coord_error]\n",
    "       \n",
    "        #TODO: normalize the input to the Neural network model using meaning and variance of the training set inputs.\n",
    "        normalize_xy_input_nn_model = (torch.tensor(xy_input_nn_model) - mean_of_train_input)/std_of_the_train_input\n",
    "    \n",
    "        prediction_for_Y_pos_increment = NN_model(normalize_xy_input_nn_model)\n",
    "       \n",
    "        #TODO: Get the current Y (angular) position/angle of the robot. you can use the api.getPos function of fable\n",
    "        robot_current_Y_pos = api.getPos(1,moduleID)\n",
    "        #Next Y angular position of the robot will be robot_Y_pos + prediction_for_Y_pos_increment\n",
    "        robot_next_Y_pos = robot_current_Y_pos + prediction_for_Y_pos_increment\n",
    "        \n",
    "        c.learn(robot_next_Y_pos.detach().numpy())\n",
    "        # print(angle_cmac)\n",
    "        robot_nn_and_cmac = robot_next_Y_pos + angle_cmac\n",
    "\n",
    "        #TODO: Set the next position of the robot to (-90,robot_next_Y_pos) using the setPos function of the fable.\n",
    "        api.setPos(-90,robot_nn_and_cmac,moduleID)\n",
    "        api.sleep(0.3)\n",
    "        number_of_iterations_for_convergence = number_of_iterations_for_convergence + 1\n",
    "\n",
    "    return [x_ref_vec,x_act_vec]\n",
    "\n",
    "[x_ref_vec,x_act_vec] = ControlLoopWithBothNNandCMAC(0,0, 200)\n",
    "plt.plot(np.arange(len(x_ref_vec)),x_ref_vec)\n",
    "plt.plot(np.arange(len(x_act_vec)),x_act_vec)\n",
    "plt.show()"
   ]
  },
  {
   "cell_type": "code",
   "execution_count": 138,
   "id": "feea9f58",
   "metadata": {},
   "outputs": [
    {
     "data": {
      "text/plain": [
       "0"
      ]
     },
     "execution_count": 138,
     "metadata": {},
     "output_type": "execute_result"
    }
   ],
   "source": [
    "api.setPos(-90,0,moduleID)"
   ]
  },
  {
   "cell_type": "code",
   "execution_count": 139,
   "id": "e3b94b8f",
   "metadata": {},
   "outputs": [
    {
     "name": "stdout",
     "output_type": "stream",
     "text": [
      "0 278 300.0\n",
      "1 282 304.0833986801567\n",
      "2 284 308.1627675388107\n",
      "3 304 312.23408073140683\n",
      "4 316 316.29332036335956\n",
      "5 320 320.33648045523\n",
      "6 322 324.3595708961442\n",
      "7 314 328.3586213815505\n",
      "8 328 332.3296853314311\n",
      "9 330 336.2688437850998\n",
      "10 346 340.17220926874313\n",
      "11 346 344.0359296318879\n",
      "12 334 347.85619184900816\n",
      "13 348 351.6292257825215\n",
      "14 342 355.3513079034594\n",
      "15 356 359.0187649661411\n",
      "16 346 362.627977633223\n",
      "17 348 366.1753840475483\n",
      "18 344 369.6574833472696\n",
      "19 362 373.070839120777\n",
      "20 376 376.4120827980215\n",
      "21 382 379.67791697488695\n",
      "22 372 382.8651186673296\n",
      "23 384 385.97054249207474\n",
      "24 382 388.99112377072953\n",
      "25 396 391.9238815542512\n",
      "26 388 394.7659215647835\n",
      "27 400 397.5144390519597\n",
      "28 392 400.1667215608526\n",
      "29 400 402.7201516088397\n",
      "30 393 405.17220926874313\n",
      "31 404 407.520474655693\n",
      "32 398 409.76263031526196\n",
      "33 410 411.89646351051266\n",
      "34 410 413.9198684057023\n",
      "35 410 415.83084814448785\n",
      "36 420 417.6275168205825\n",
      "37 410 419.30810133891754\n",
      "38 413 420.8709431654727\n",
      "39 423 422.31449996404933\n",
      "40 416 423.63734711837\n",
      "41 427 424.8381791380026\n",
      "42 420 425.91581094672205\n",
      "43 430 426.86917905203717\n",
      "44 420 427.69734259472955\n",
      "45 431 428.39948427736795\n",
      "46 423 428.97491117088214\n",
      "47 433 429.4230553984004\n",
      "48 426 429.74347469567533\n",
      "49 422 429.9358528475451\n",
      "50 430 430.0\n",
      "51 430 429.9358528475451\n",
      "52 430 429.74347469567533\n",
      "53 426 429.4230553984004\n",
      "54 416 428.97491117088214\n",
      "55 428 428.39948427736795\n",
      "56 432 427.69734259472955\n",
      "57 427 426.86917905203717\n",
      "58 424 425.91581094672205\n",
      "59 424 424.8381791380026\n",
      "60 432 423.63734711837\n",
      "61 426 422.31449996404933\n",
      "62 416 420.8709431654727\n",
      "63 422 419.30810133891754\n",
      "64 414 417.6275168205825\n",
      "65 408 415.83084814448785\n",
      "66 419 413.91986840570223\n",
      "67 416 411.89646351051266\n",
      "68 408 409.76263031526196\n",
      "69 408 407.520474655693\n",
      "70 400 405.1722092687432\n",
      "71 411 402.7201516088397\n",
      "72 402 400.1667215608526\n",
      "73 392 397.51443905195976\n",
      "74 403 394.76592156478347\n",
      "75 394 391.9238815542512\n",
      "76 382 388.99112377072953\n",
      "77 396 385.97054249207474\n",
      "78 388 382.8651186673297\n",
      "79 384 379.6779169748869\n",
      "80 376 376.4120827980215\n",
      "81 380 373.070839120777\n",
      "82 382 369.6574833472696\n",
      "83 374 366.1753840475483\n",
      "84 364 362.627977633223\n",
      "85 348 359.0187649661411\n",
      "86 360 355.3513079034595\n",
      "87 354 351.62922578252153\n",
      "88 340 347.85619184900816\n",
      "89 352 344.0359296318879\n",
      "90 340 340.1722092687432\n",
      "91 340 336.2688437850998\n",
      "92 330 332.32968533143116\n",
      "93 322 328.35862138155056\n",
      "94 336 324.3595708961442\n",
      "95 330 320.33648045523\n",
      "96 320 316.2933203633596\n",
      "97 308 312.2340807314069\n",
      "98 308 308.1627675388108\n",
      "99 308 304.0833986801567\n",
      "100 298 300.0\n",
      "101 292 295.9166013198434\n",
      "102 288 291.8372324611893\n",
      "103 284 287.76591926859317\n",
      "104 276 283.70667963664044\n",
      "105 294 279.66351954477\n",
      "106 292 275.6404291038558\n",
      "107 292 271.6413786184495\n",
      "108 292 267.6703146685689\n",
      "109 292 263.73115621490024\n",
      "110 292 259.82779073125687\n",
      "111 292 255.96407036811212\n",
      "112 292 252.14380815099187\n",
      "113 292 248.37077421747856\n",
      "114 292 244.6486920965406\n",
      "115 294 240.98123503385887\n",
      "116 292 237.372022366777\n",
      "117 292 233.82461595245172\n",
      "118 292 230.34251665273047\n",
      "119 292 226.92916087922305\n",
      "120 292 223.58791720197854\n",
      "121 292 220.32208302511305\n",
      "122 292 217.13488133267035\n",
      "123 292 214.02945750792526\n",
      "124 292 211.00887622927053\n",
      "125 292 208.07611844574888\n",
      "126 292 205.2340784352165\n",
      "127 292 202.48556094804027\n",
      "128 292 199.83327843914736\n",
      "129 292 197.27984839116024\n",
      "130 292 194.82779073125684\n",
      "131 292 192.47952534430698\n",
      "132 292 190.237369684738\n",
      "133 292 188.1035364894873\n",
      "134 292 186.08013159429774\n",
      "135 292 184.16915185551218\n",
      "136 292 182.37248317941743\n",
      "137 292 180.69189866108243\n",
      "138 292 179.12905683452732\n",
      "139 292 177.6855000359507\n",
      "140 292 176.36265288163003\n",
      "141 292 175.1618208619974\n",
      "142 292 174.08418905327795\n",
      "143 292 173.13082094796283\n",
      "144 292 172.30265740527045\n",
      "145 292 171.6005157226321\n",
      "146 292 171.0250888291179\n",
      "147 292 170.5769446015996\n",
      "148 292 170.2565253043247\n",
      "149 292 170.0641471524549\n",
      "150 292 170.0\n",
      "151 292 170.0641471524549\n",
      "152 292 170.2565253043247\n",
      "153 292 170.5769446015996\n",
      "154 292 171.02508882911786\n",
      "155 292 171.60051572263208\n",
      "156 292 172.30265740527045\n",
      "157 292 173.13082094796283\n",
      "158 292 174.08418905327795\n",
      "159 292 175.1618208619974\n",
      "160 292 176.36265288163003\n",
      "161 292 177.68550003595067\n",
      "162 292 179.1290568345273\n",
      "163 292 180.6918986610824\n",
      "164 292 182.37248317941743\n",
      "165 292 184.1691518555121\n",
      "166 292 186.08013159429777\n",
      "167 292 188.10353648948734\n",
      "168 292 190.23736968473804\n",
      "169 292 192.47952534430698\n",
      "170 292 194.8277907312568\n",
      "171 292 197.27984839116021\n",
      "172 292 199.83327843914736\n",
      "173 292 202.4855609480402\n",
      "174 292 205.23407843521642\n",
      "175 292 208.0761184457487\n",
      "176 292 211.00887622927044\n",
      "177 292 214.0294575079253\n",
      "178 292 217.13488133267035\n",
      "179 292 220.32208302511305\n",
      "180 292 223.58791720197846\n",
      "181 292 226.929160879223\n",
      "182 292 230.34251665273038\n",
      "183 292 233.82461595245164\n",
      "184 292 237.3720223667769\n",
      "185 292 240.9812350338589\n",
      "186 292 244.64869209654051\n",
      "187 292 248.37077421747856\n",
      "188 292 252.14380815099187\n",
      "189 292 255.96407036811212\n",
      "190 292 259.8277907312568\n",
      "191 292 263.7311562149001\n",
      "192 292 267.67031466856884\n",
      "193 292 271.6413786184494\n",
      "194 292 275.6404291038558\n",
      "195 292 279.66351954476994\n",
      "196 282 283.7066796366404\n",
      "197 294 287.76591926859305\n",
      "198 294 291.8372324611893\n",
      "199 278 295.9166013198433\n"
     ]
    },
    {
     "data": {
      "image/png": "[encoded data removed]",
      "text/plain": [
       "<Figure size 640x480 with 1 Axes>"
      ]
     },
     "metadata": {},
     "output_type": "display_data"
    }
   ],
   "source": [
    "from adaptive_filter.cerebellum import AdaptiveFilterCerebellum\n",
    "\n",
    "def NNwithAF(target_x, target_y, iter_num):\n",
    "\n",
    "    target_x_coord = target_x\n",
    "    target_y_coord = target_y\n",
    "    number_of_iterations_for_convergence = 0\n",
    "    max_iter = iter_num\n",
    "    #TODO:Intialize your best neural network model and load the saved paramemeters\n",
    "    NN_model = NN(n_feature=2,n_hidden1=100,n_hidden2=100, n_output=1)\n",
    "    NN_model.load_state_dict(torch.load('best_nn_model.pth'))\n",
    "\n",
    "    x_ref_vec = []\n",
    "    x_act_vec = []\n",
    "\n",
    "    ## TODO: AF initialization\n",
    "    Ts = 1e-3\n",
    "    n_inputs = 1\n",
    "    n_outputs = 1\n",
    "    n_bases = 20\n",
    "    beta = 1e-4\n",
    "\n",
    "    af = AdaptiveFilterCerebellum(Ts, n_inputs, n_outputs, n_bases, beta)\n",
    "\n",
    "    robot_input = 0\n",
    "\n",
    "    ## Simulation loop\n",
    "    for i in range(max_iter):\n",
    "       \n",
    "        cam = ct.prepare_camera()\n",
    "        img = ct.capture_image(cam)\n",
    "        x,y = ct.locate(img,low_green, high_green)\n",
    "\n",
    "        # cam_red = ct.prepare_camera()\n",
    "        # img_red = ct.capture_image(cam)\n",
    "        # x_red,y_red = ct.locate(img,low_red, high_red)\n",
    "\n",
    "        x_ref = A * np.sin(2*np.pi * i/T) + 300\n",
    "        # x_ref = 450\n",
    "        y_ref = y\n",
    "\n",
    "        x_ref = float(x_ref)\n",
    "        y_ref = float(y_ref)\n",
    "\n",
    "        print(i, x, x_ref)\n",
    "\n",
    "        x_ref_vec.append(x_ref)\n",
    "        x_act_vec.append(x)\n",
    "\n",
    "        # print(x,y)\n",
    "        robot_x_coord_in_image = x\n",
    "        robot_y_coord_in_image = y\n",
    "        x_coord_error = x_ref - robot_x_coord_in_image;\n",
    "        y_coord_error = y_ref - robot_y_coord_in_image;\n",
    "        \n",
    "        ## TODO: Implement the CMAC controller into the loop\n",
    "       \n",
    "        af_out = af.step(robot_input, x_coord_error)\n",
    "        # print(af_out)\n",
    "        x_coord_error = x_coord_error +af_out\n",
    "        \n",
    "        #Here if the errors are less than twenty pixels we assume robot reaches the target. \n",
    "        # However you can choose any reasonable threshold value instead of 20.\n",
    "        # if (np.abs(x_coord_error) < (1+x_prev*1.02) and np.abs(y_coord_error) < (1+y_coord_error*1.02)):\n",
    "        #     print(\"number of iterations for convergence = \", number_of_iterations_for_convergence)\n",
    "        #     break\n",
    "        \n",
    "        xy_input_nn_model = [x_coord_error,y_coord_error]\n",
    "    \n",
    "        #TODO: normalize the input to the Neural network model using meaning and variance of the training set inputs.\n",
    "        normalize_xy_input_nn_model = (torch.tensor(xy_input_nn_model) - mean_of_train_input)/std_of_the_train_input\n",
    "   \n",
    "        prediction_for_Y_pos_increment = NN_model(normalize_xy_input_nn_model)\n",
    "        # print(prediction_for_Y_pos_increment)\n",
    "        #TODO: Get the current Y (angular) position/angle of the robot. you can use the api.getPos function of fable\n",
    "        robot_current_Y_pos = api.getPos(1,moduleID)\n",
    "        #Next Y angular position of the robot will be robot_Y_pos + prediction_for_Y_pos_increment\n",
    "        robot_next_Y_pos = robot_current_Y_pos + prediction_for_Y_pos_increment\n",
    "       \n",
    "        robot_nn_and_af = robot_next_Y_pos\n",
    "        robot_input = prediction_for_Y_pos_increment.detach().numpy()\n",
    "\n",
    "        #TODO: Set the next position of the robot to (-90,robot_next_Y_pos) using the setPos function of the fable.\n",
    "        api.setPos(-90,robot_nn_and_af,moduleID)\n",
    "        api.sleep(0.3)\n",
    "        number_of_iterations_for_convergence = number_of_iterations_for_convergence + 1\n",
    "        \n",
    "\n",
    "    return [x_ref_vec,x_act_vec]\n",
    "\n",
    "[x_ref_vec,x_act_vec] = NNwithAF(0,0, 200)\n",
    "plt.plot(np.arange(len(x_ref_vec)),x_ref_vec)\n",
    "plt.plot(np.arange(len(x_act_vec)),x_act_vec)\n",
    "plt.show()"
   ]
  },
  {
   "cell_type": "code",
   "execution_count": null,
   "id": "291f6aff",
   "metadata": {},
   "outputs": [],
   "source": [
    "#TODO: Compare the number of iteration it takes for convergence in the control loop with \n",
    "# neural network only and with both CMAC and neural network."
   ]
  }
 ],
 "metadata": {
  "interpreter": {
   "hash": "97b1ca7657afa4cca8b89ccd445cd43dbad4b1535d3709ba624a8852d37759e0"
  },
  "kernelspec": {
   "display_name": "Python [conda env:biocontrol] *",
   "language": "python",
   "name": "python3"
  },
  "language_info": {
   "codemirror_mode": {
    "name": "ipython",
    "version": 3
   },
   "file_extension": ".py",
   "mimetype": "text/x-python",
   "name": "python",
   "nbconvert_exporter": "python",
   "pygments_lexer": "ipython3",
   "version": "3.11.5"
  }
 },
 "nbformat": 4,
 "nbformat_minor": 5
}
