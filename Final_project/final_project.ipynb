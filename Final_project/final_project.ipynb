{
 "cells": [
  {
   "cell_type": "code",
   "execution_count": 1,
   "id": "80c5863b",
   "metadata": {},
   "outputs": [],
   "source": [
    "import numpy as np\n",
    "import csv\n",
    "import pandas as pd\n",
    "import os\n",
    "import torch\n",
    "import matplotlib.pyplot as plt"
   ]
  },
  {
   "cell_type": "code",
   "execution_count": 2,
   "id": "fa93fce4",
   "metadata": {},
   "outputs": [],
   "source": [
    "import camera_tools as ct"
   ]
  },
  {
   "cell_type": "code",
   "execution_count": 3,
   "id": "94a784c1",
   "metadata": {},
   "outputs": [],
   "source": [
    "from cmac2 import CMAC"
   ]
  },
  {
   "cell_type": "code",
   "execution_count": 123,
   "id": "e74871f9",
   "metadata": {},
   "outputs": [
    {
     "name": "stdout",
     "output_type": "stream",
     "text": [
      "[ 25  85 133]\n",
      "[146 113 239]\n"
     ]
    }
   ],
   "source": [
    "#Calibrate the camera to detect green box, if you haven't done this calibration before\n",
    "low_green, high_green = ct.colorpicker()\n",
    "print(low_green)\n",
    "print(high_green)"
   ]
  },
  {
   "cell_type": "code",
   "execution_count": 269,
   "id": "e6e572fa",
   "metadata": {},
   "outputs": [
    {
     "name": "stdout",
     "output_type": "stream",
     "text": [
      "[ 65 169 146]\n",
      "[132 191 255]\n"
     ]
    }
   ],
   "source": [
    "low_red, high_red = ct.colorpicker()\n",
    "print(low_red)\n",
    "print(high_red)"
   ]
  },
  {
   "cell_type": "code",
   "execution_count": 124,
   "id": "4a0e3103",
   "metadata": {},
   "outputs": [
    {
     "name": "stdout",
     "output_type": "stream",
     "text": [
      "206 196\n"
     ]
    }
   ],
   "source": [
    "#Check whether the camera detects the green object properly\n",
    "cam = ct.prepare_camera()\n",
    "image = ct.capture_image(cam)\n",
    "x,y = ct.locate(image, low_green, high_green)\n",
    "ct.show_camera(cam)\n",
    "\n",
    "print(x,y)"
   ]
  },
  {
   "cell_type": "code",
   "execution_count": 270,
   "id": "19c6b967",
   "metadata": {},
   "outputs": [],
   "source": [
    "#Check whether the camera detects the green object properly\n",
    "cam_red = ct.prepare_camera()\n",
    "img_red = ct.capture_image(cam_red)\n",
    "ct.show_camera(cam_red, low_red, high_red)"
   ]
  },
  {
   "cell_type": "code",
   "execution_count": 125,
   "id": "b7e258dc",
   "metadata": {},
   "outputs": [
    {
     "name": "stdout",
     "output_type": "stream",
     "text": [
      "Dongle already connected\n",
      "setup done\n"
     ]
    },
    {
     "data": {
      "text/plain": [
       "True"
      ]
     },
     "execution_count": 125,
     "metadata": {},
     "output_type": "execute_result"
    }
   ],
   "source": [
    "from FableAPI.fable_init import api\n",
    "api.setup(blocking=True)"
   ]
  },
  {
   "cell_type": "code",
   "execution_count": 127,
   "id": "d70b71f2",
   "metadata": {},
   "outputs": [
    {
     "name": "stdout",
     "output_type": "stream",
     "text": [
      "Module IDs:  ['5YA ']\n",
      "Battery level: 89.2 %\n"
     ]
    }
   ],
   "source": [
    "moduleids = api.discoverModules()\n",
    "print(\"Module IDs: \", moduleids)\n",
    "moduleID = moduleids[0]\n",
    "print(\"Battery level:\",api.getBattery(moduleID),\"%\")"
   ]
  },
  {
   "cell_type": "code",
   "execution_count": 128,
   "id": "bd4d6bd4",
   "metadata": {},
   "outputs": [
    {
     "data": {
      "text/plain": [
       "0"
      ]
     },
     "execution_count": 128,
     "metadata": {},
     "output_type": "execute_result"
    }
   ],
   "source": [
    "api.setPos(-90,0,moduleID)"
   ]
  },
  {
   "cell_type": "code",
   "execution_count": 129,
   "id": "b361e0eb",
   "metadata": {},
   "outputs": [],
   "source": [
    "#Create two files (if they were not already created) to collect data.\n",
    "if (not os.path.exists(\"xycoords_2.csv\")):\n",
    "    f = open('xycoords_2.csv', 'w')\n",
    "    with f:\n",
    "        writer = csv.writer(f)\n",
    "        writer.writerows([[\"X\",\"Y\"]])\n",
    "    f.close()\n",
    "if (not os.path.exists(\"angles_2.csv\")):\n",
    "    f = open('angles_2.csv','w')\n",
    "    with f:\n",
    "        writer = csv.writer(f)\n",
    "        writer.writerows([[\"Y_angle\"]])\n",
    "    f.close()"
   ]
  },
  {
   "cell_type": "code",
   "execution_count": 130,
   "id": "53b78dcf",
   "metadata": {},
   "outputs": [],
   "source": [
    "#we use the collectData function to collect the data for training.\n",
    "    #we collect Y (angular) position of the end effector\n",
    "    #we collect x,y coordinates of the end effector in the camera image\n",
    "    #see the video final_project_guidance.mp4\n",
    "def collectData(desired_angle_change):\n",
    "    cam = ct.prepare_camera()\n",
    "    ct.show_camera(cam)\n",
    "    cam.release()\n",
    "    cam = ct.prepare_camera()\n",
    "    api.setPos(-90,90,moduleID)\n",
    "    api.sleep(1.5)\n",
    "    Y_angle_list = []\n",
    "    XY_coordinates_list = []\n",
    "    traversed_directions = 0\n",
    "    current_direction = 0     # 1 is for clockwise, 0 is for anticlockwise\n",
    "    traversedDirections = 0\n",
    "    num_of_iterations = (int)(np.round(360/desired_angle_change,1))\n",
    "    #Fable's Y arm traverse anticlockwise\n",
    "    if current_direction == 0:\n",
    "        for i in range(num_of_iterations):\n",
    "            img = ct.capture_image(cam)\n",
    "            x,y = ct.locate(img, low_green, high_green)\n",
    "            currentRobotYAng = (int)(np.round(api.getPos(1,moduleID),1))\n",
    "            Y_angle_list.append([currentRobotYAng])\n",
    "            XY_coordinates_list.append([x,y])\n",
    "            currentRobotYAng = currentRobotYAng - (desired_angle_change)\n",
    "            api.setPos(-90,currentRobotYAng,moduleID)\n",
    "            api.sleep(1.5)\n",
    "            if np.abs(currentRobotYAng) > 90:\n",
    "                current_direction = 1\n",
    "                traversedDirections = traversedDirections + 1\n",
    "                break\n",
    "    #Fable's Y Arm traverses clockwise\n",
    "    if current_direction == 1:\n",
    "        for i in range(num_of_iterations):\n",
    "            img = ct.capture_image(cam)\n",
    "            x,y = ct.locate(img, low_green, high_green)\n",
    "            currentRobotYAng = (int)(np.round(api.getPos(1,moduleID),1))\n",
    "            Y_angle_list.append([currentRobotYAng])\n",
    "            XY_coordinates_list.append([x,y])\n",
    "            currentRobotYAng = currentRobotYAng + (desired_angle_change)\n",
    "            api.setPos(-90,currentRobotYAng,moduleID)\n",
    "            api.sleep(1.5)\n",
    "            if np.abs(currentRobotYAng) > 90:\n",
    "                current_direction = 0\n",
    "                traversedDirections = traversedDirections + 1\n",
    "                break\n",
    "    if traversedDirections == 2:\n",
    "        cam.release()\n",
    "        #Save collected data to files\n",
    "        y_angle_file_ptr = open('angles_2.csv', 'a+', newline ='')\n",
    "        with y_angle_file_ptr:\n",
    "            writer = csv.writer(y_angle_file_ptr)\n",
    "            writer.writerows(Y_angle_list)\n",
    "        y_angle_file_ptr.close()\n",
    "        file_xycoords = open('xycoords_2.csv', 'a+', newline ='')\n",
    "        with file_xycoords:\n",
    "            writer = csv.writer(file_xycoords)\n",
    "            writer.writerows(XY_coordinates_list)\n",
    "        file_xycoords.close()\n",
    "    return\n",
    "    "
   ]
  },
  {
   "cell_type": "code",
   "execution_count": 218,
   "id": "c14beede",
   "metadata": {},
   "outputs": [],
   "source": [
    "#TODO: Call the CollectData() function with different values for 'desired_angle_change' argument and collect sufficient\n",
    "#sufficient amout of data to angles_2.csv file and xycoords_2.csv file.\n",
    "collectData(5)"
   ]
  },
  {
   "cell_type": "code",
   "execution_count": 219,
   "id": "845578e1",
   "metadata": {},
   "outputs": [],
   "source": [
    "#Use this function to calculate Y (angular) position errors \n",
    "# Y (angular) positions\n",
    "def readAngleFilesAndCollectErrors(fileName):\n",
    "    angleDataFrame = pd.read_csv(fileName)\n",
    "    desired_column = angleDataFrame.columns[0]\n",
    "    angle_error_list = []\n",
    "    for i in range(1,len(angleDataFrame)):\n",
    "        current_data_element = angleDataFrame[desired_column][i]\n",
    "        previous_data_element = angleDataFrame[desired_column][i-1]\n",
    "        #TODO: Calculate the Y (angular) position error(say current_error) as the difference between \n",
    "        # the current Y (angular) position and previous Y (angular) position\n",
    "        current_error = current_data_element - previous_data_element\n",
    "        #print(current_data_element,\" \", previous_data_element, \" \", current_error)\n",
    "        angle_error_list = angle_error_list + [current_error]\n",
    "    return angle_error_list"
   ]
  },
  {
   "cell_type": "code",
   "execution_count": 220,
   "id": "4aed3f04",
   "metadata": {},
   "outputs": [],
   "source": [
    "#Use this function to calculate errors between x and y coordinates\n",
    "def readXYCoordsFilesAndCollectErrors(fileName):\n",
    "    xyCoordsDataFrame = pd.read_csv(fileName)\n",
    "    x_col_name = xyCoordsDataFrame.columns[0]\n",
    "    y_col_name = xyCoordsDataFrame.columns[1]\n",
    "    x_pos_error_list = []\n",
    "    y_pos_error_list = []\n",
    "    for i in range(1,len(xyCoordsDataFrame)):\n",
    "        current_data_element_x = xyCoordsDataFrame[x_col_name][i]\n",
    "        current_data_element_y = xyCoordsDataFrame[y_col_name][i]\n",
    "        previous_data_element_x = xyCoordsDataFrame[x_col_name][i-1]\n",
    "        previous_data_element_y = xyCoordsDataFrame[y_col_name][i-1]\n",
    "        error_x_pos = current_data_element_x - previous_data_element_x \n",
    "        error_y_pos = current_data_element_y - previous_data_element_y\n",
    "        x_pos_error_list = x_pos_error_list + [error_x_pos]\n",
    "        y_pos_error_list = y_pos_error_list + [error_y_pos] \n",
    "    return [x_pos_error_list,y_pos_error_list]"
   ]
  },
  {
   "cell_type": "code",
   "execution_count": 221,
   "id": "4d283c21",
   "metadata": {},
   "outputs": [],
   "source": [
    "#Read the provided files and load the calculated errors into to appropriate lists as follows\n",
    "# angle_error_list_1 = readAngleFilesAndCollectErrors(\"angles_1.csv\")\n",
    "# x_pos_error_list_1,y_pos_error_list_1 = readXYCoordsFilesAndCollectErrors(\"xyCoords_1.csv\")\n",
    "#Read the files with the data dumped by you and load the calculated errors into appropriate lists.\n",
    "angle_error_list_2 = readAngleFilesAndCollectErrors(\"angles_2.csv\")\n",
    "x_pos_error_list_2,y_pos_error_list_2 = readXYCoordsFilesAndCollectErrors(\"xyCoords_2.csv\")"
   ]
  },
  {
   "cell_type": "markdown",
   "id": "3b0ba5fe",
   "metadata": {},
   "source": [
    "Remove any nans"
   ]
  },
  {
   "cell_type": "code",
   "execution_count": 222,
   "id": "98dff63c",
   "metadata": {},
   "outputs": [
    {
     "name": "stdout",
     "output_type": "stream",
     "text": [
      "Angle errors:  (108,)\n",
      "X position errors:  (108,)\n",
      "Y position errors:  (108,)\n"
     ]
    }
   ],
   "source": [
    "x_coord_error_array = np.array(x_pos_error_list_2)\n",
    "y_coord_error_array = np.array(y_pos_error_list_2)\n",
    "angle_error_array = np.array(angle_error_list_2)\n",
    "print(\"Angle errors: \",angle_error_array.shape)\n",
    "print(\"X position errors: \",x_coord_error_array.shape)\n",
    "print(\"Y position errors: \",y_coord_error_array.shape)"
   ]
  },
  {
   "cell_type": "code",
   "execution_count": 223,
   "id": "1426d219",
   "metadata": {},
   "outputs": [
    {
     "name": "stdout",
     "output_type": "stream",
     "text": [
      "(108,) (108,) (108,)\n"
     ]
    }
   ],
   "source": [
    "# Get a boolean mask where True indicates the location of NaNs in angle_error_array\n",
    "nan_mask = np.isnan(x_coord_error_array)\n",
    "\n",
    "# Use this mask to remove corresponding elements from x_coord_error_array and y_coord_error_array\n",
    "x_coord_error_array = x_coord_error_array[~nan_mask]\n",
    "y_coord_error_array = y_coord_error_array[~nan_mask]\n",
    "\n",
    "# Now remove the NaNs from angle_error_array\n",
    "angle_error_array = angle_error_array[~nan_mask]\n",
    "\n",
    "print(angle_error_array.shape, x_coord_error_array.shape, y_coord_error_array.shape)"
   ]
  },
  {
   "cell_type": "markdown",
   "id": "90fe5887",
   "metadata": {},
   "source": [
    "Merge them"
   ]
  },
  {
   "cell_type": "code",
   "execution_count": 224,
   "id": "95a24914",
   "metadata": {},
   "outputs": [],
   "source": [
    "# Here we use 80% of the collected data  as the training set and 20% of the collected data as test set.\n",
    "#TODO: Assign different propotions of the collected data set and test set and check how the test set error varies of the \n",
    "#Neural Network\n",
    "data =  np.vstack((x_coord_error_array,y_coord_error_array)).T\n",
    "target = np.vstack(angle_error_array)\n",
    "data_input_tensor = torch.tensor(data.tolist()).float()\n",
    "data_target_tensor = torch.tensor(target.tolist()).float()\n",
    "data_with_target = torch.cat((data_input_tensor,data_target_tensor),1)\n",
    "#TODO: what is the importance of using DataLoader utility function here?\n",
    "loader= torch.utils.data.DataLoader(data_with_target,\n",
    "                                     batch_size=data_with_target.size()[0], shuffle=True,\n",
    "                                     num_workers=0)\n",
    "#training set\n",
    "train_set = []\n",
    "#test set\n",
    "test_set = []\n",
    "for i in iter(loader):\n",
    "    train_set_index = (int)(np.round(i.shape[0]*0.8))\n",
    "    train_set = i[:train_set_index,:]\n",
    "    test_set = i[train_set_index:,:]"
   ]
  },
  {
   "cell_type": "code",
   "execution_count": 225,
   "id": "c5578004",
   "metadata": {},
   "outputs": [
    {
     "name": "stdout",
     "output_type": "stream",
     "text": [
      "torch.Size([86, 3])\n",
      "torch.Size([22, 3])\n"
     ]
    }
   ],
   "source": [
    "print(train_set.shape)\n",
    "print(test_set.shape)"
   ]
  },
  {
   "cell_type": "code",
   "execution_count": 226,
   "id": "70582f8d",
   "metadata": {},
   "outputs": [],
   "source": [
    "#Defining Neural Network Model\n",
    "class NN(torch.nn.Module):\n",
    "    def __init__(self,n_feature,n_hidden1,n_hidden2,n_output):\n",
    "        super(NN,self).__init__()\n",
    "        self.hidden1 = torch.nn.Linear(n_feature,n_hidden1)\n",
    "        #self.do1 = torch.nn.Dropout(0.15)\n",
    "        #self.relu1 = torch.nn.LeakyReLU()\n",
    "        #self.bn1 = torch.nn.BatchNorm1d(n_hidden1,affine=False)\n",
    "        self.hidden2 = torch.nn.Linear(n_hidden1,n_hidden2)\n",
    "        #self.bn2 = torch.nn.BatchNorm1d(n_hidden2,affine=False)\n",
    "        #self.relu2 = torch.nn.LeakyReLU()\n",
    "        #self.do2 = torch.nn.Dropout(0.1)\n",
    "        self.predict = torch.nn.Linear(n_hidden2,n_output)\n",
    "        \n",
    "        \n",
    "    def forward(self,x):\n",
    "        x = self.hidden1(x)\n",
    "        x = torch.sigmoid(x)\n",
    "        #x = self.do1(x)\n",
    "        x = self.hidden2(x)\n",
    "        x = torch.sigmoid(x)\n",
    "        #x = self.do2(x)\n",
    "        x = self.predict(x)\n",
    "        return x"
   ]
  },
  {
   "cell_type": "code",
   "execution_count": 227,
   "id": "094f4f5e",
   "metadata": {},
   "outputs": [],
   "source": [
    "#instantiate the Neural Network\n",
    "#model = NN(n_feature=2,n_hidden1=17,n_hidden2=7, n_output=1)\n",
    "model = NN(n_feature=2,n_hidden1=100,n_hidden2=100, n_output=1)"
   ]
  },
  {
   "cell_type": "code",
   "execution_count": 228,
   "id": "2f3a93a0",
   "metadata": {},
   "outputs": [],
   "source": [
    "#Define loss function : \n",
    "# here we use Mean Square Error as the loss function\n",
    "loss_func = torch.nn.MSELoss()"
   ]
  },
  {
   "cell_type": "code",
   "execution_count": 229,
   "id": "bb61a9e9",
   "metadata": {},
   "outputs": [],
   "source": [
    "#Define the optimizer that should be used in training the Neural Network.\n",
    "# Here 'lr' is the learning rate\n",
    "optimizer = torch.optim.Adam(model.parameters(),lr=0.01)"
   ]
  },
  {
   "cell_type": "code",
   "execution_count": 230,
   "id": "8e8563f9",
   "metadata": {},
   "outputs": [],
   "source": [
    "train_set_inputs = train_set[:,:2]\n",
    "#TODO: calculate the mean value of the train_set_inputs. \n",
    "mean_of_train_input = torch.mean(train_set_inputs,0)\n",
    "#standard deviation of the train set inputs.\n",
    "std_of_the_train_input = torch.std(train_set_inputs,0)\n",
    "#here we normalize the inputs of the neural network. What is the importance of that?\n",
    "normalized_train_set_inputs = (train_set_inputs - mean_of_train_input)/std_of_the_train_input"
   ]
  },
  {
   "cell_type": "code",
   "execution_count": 231,
   "id": "84e10aa4",
   "metadata": {},
   "outputs": [],
   "source": [
    "#targets of the training set\n",
    "train_set_targets = train_set[:,2][:,np.newaxis]"
   ]
  },
  {
   "cell_type": "code",
   "execution_count": 232,
   "id": "3b66a79b",
   "metadata": {},
   "outputs": [
    {
     "name": "stdout",
     "output_type": "stream",
     "text": [
      "torch.Size([86, 2])\n",
      "torch.Size([86, 1])\n"
     ]
    }
   ],
   "source": [
    "print(normalized_train_set_inputs.shape)\n",
    "print(train_set_targets.shape)"
   ]
  },
  {
   "cell_type": "code",
   "execution_count": 233,
   "id": "4ceb0ebf",
   "metadata": {},
   "outputs": [
    {
     "name": "stdout",
     "output_type": "stream",
     "text": [
      "Min Loss:  4.0394225\n"
     ]
    }
   ],
   "source": [
    "#TODO: train the Neural network model by changing the hyper parameters such as learning rate, number of epochs, number of neurons in hidden layers of the neural network.\n",
    "# What is the minimum mean square error that you can achieve as your neural network converges for the training set.\n",
    "#  (you will be able to achive a MSE of less than 10 as the Neural network converges.)\n",
    "num_epochs = 2000\n",
    "losslist = []\n",
    "for _ in range(num_epochs):\n",
    "    with torch.autocast(device_type=\"cpu\", dtype=torch.bfloat16):\n",
    "        prediction = model(normalized_train_set_inputs) # Forward pass prediction. Saves intermediary values required for backwards pass\n",
    "        loss = loss_func(prediction, train_set_targets) # Computes the loss for each example, using the loss function defined above\n",
    "    optimizer.zero_grad() # Clears gradients from previous iteration\n",
    "    loss.backward() # Backpropagation of errors through the network\n",
    "    optimizer.step() # Updating weights\n",
    "    # print(\"prediction =\",prediction)\n",
    "    # print(\"Loss: \", loss.detach().numpy())\n",
    "    losslist.append(loss.detach().numpy())\n",
    "print(\"Min Loss: \", losslist[-1])"
   ]
  },
  {
   "cell_type": "code",
   "execution_count": 152,
   "id": "8fd85b9c",
   "metadata": {},
   "outputs": [
    {
     "name": "stdout",
     "output_type": "stream",
     "text": [
      "Loss:  1.8375\n"
     ]
    }
   ],
   "source": [
    "# print(\"Loss: \", losslist)"
   ]
  },
  {
   "cell_type": "code",
   "execution_count": 234,
   "id": "db3192e0",
   "metadata": {},
   "outputs": [
    {
     "data": {
      "image/png": "[encoded data removed]",
      "text/plain": [
       "<Figure size 640x480 with 1 Axes>"
      ]
     },
     "metadata": {},
     "output_type": "display_data"
    }
   ],
   "source": [
    "#plot the mean square error in each epoch/iteration\n",
    "plt.plot(np.arange(len(losslist)),losslist)\n",
    "plt.show()"
   ]
  },
  {
   "cell_type": "code",
   "execution_count": 235,
   "id": "4ab4a68e",
   "metadata": {},
   "outputs": [],
   "source": [
    "#save the best neural network model you have obtained.\n",
    "torch.save(model.state_dict(), 'best_nn_model.pth')\n",
    "\n",
    "#Save the mean and standard deviation of the train set inputs because we need to use them at test time."
   ]
  },
  {
   "cell_type": "code",
   "execution_count": 236,
   "id": "5b511aa8",
   "metadata": {},
   "outputs": [
    {
     "data": {
      "text/plain": [
       "<All keys matched successfully>"
      ]
     },
     "execution_count": 236,
     "metadata": {},
     "output_type": "execute_result"
    }
   ],
   "source": [
    "#reload the your best neural network model with saved parameters\n",
    "model = NN(n_feature=2,n_hidden1=100,n_hidden2=100, n_output=1)\n",
    "model.load_state_dict(torch.load('best_nn_model.pth'))"
   ]
  },
  {
   "cell_type": "code",
   "execution_count": 237,
   "id": "ab535de2",
   "metadata": {},
   "outputs": [
    {
     "name": "stdout",
     "output_type": "stream",
     "text": [
      "tensor([[-70.,   0.],\n",
      "        [  3.,   1.],\n",
      "        [ -6.,   2.],\n",
      "        [ -2.,   2.],\n",
      "        [ 13.,   0.],\n",
      "        [ 23.,   0.],\n",
      "        [ -2.,   2.],\n",
      "        [ -2.,   0.],\n",
      "        [ 48.,  -8.],\n",
      "        [-48.,   6.],\n",
      "        [  0.,   4.],\n",
      "        [ 10.,  -2.],\n",
      "        [ 15.,   0.],\n",
      "        [-56.,   6.],\n",
      "        [ 20.,  -2.],\n",
      "        [-16.,   0.],\n",
      "        [  4.,   2.],\n",
      "        [ 57.,  21.],\n",
      "        [ 56.,  -4.],\n",
      "        [ 72.,   0.],\n",
      "        [  8.,  -2.],\n",
      "        [ -5.,   0.]])\n"
     ]
    }
   ],
   "source": [
    "#TODO: Extract inputs of the test_set\n",
    "test_set_inputs = test_set[:,:2]\n",
    "#TODO: Extract test set targets from the test_set\n",
    "test_set_targets = test_set[:,2][:,np.newaxis]\n",
    "print(test_set_inputs)"
   ]
  },
  {
   "cell_type": "code",
   "execution_count": 238,
   "id": "16007b0a",
   "metadata": {},
   "outputs": [],
   "source": [
    "#TODO: Normalize test set inputs by using the mean and standard deviation of the inputs of the training set\n",
    "normalized_test_set_inputs = (test_set_inputs - mean_of_train_input)/std_of_the_train_input\n",
    "# print(normalized_test_set_inputs)"
   ]
  },
  {
   "cell_type": "code",
   "execution_count": 239,
   "id": "d504e4b0",
   "metadata": {},
   "outputs": [],
   "source": [
    "#TODO: feed the normalized test set inputs to the Neural Network model and obtain the prediction for the test set.\n",
    "prediction_test = model(normalized_test_set_inputs)"
   ]
  },
  {
   "cell_type": "code",
   "execution_count": 240,
   "id": "ab886182",
   "metadata": {},
   "outputs": [
    {
     "name": "stdout",
     "output_type": "stream",
     "text": [
      "torch.Size([22, 1])\n"
     ]
    }
   ],
   "source": [
    "print(prediction_test.shape)"
   ]
  },
  {
   "cell_type": "code",
   "execution_count": 241,
   "id": "84590f5d",
   "metadata": {},
   "outputs": [
    {
     "data": {
      "text/plain": [
       "[<matplotlib.lines.Line2D at 0x17909524590>]"
      ]
     },
     "execution_count": 241,
     "metadata": {},
     "output_type": "execute_result"
    },
    {
     "data": {
      "image/png": "[encoded data removed]",
      "text/plain": [
       "<Figure size 640x480 with 1 Axes>"
      ]
     },
     "metadata": {},
     "output_type": "display_data"
    }
   ],
   "source": [
    "#plot the prediction error of the test set\n",
    "test_set_prediction_error = prediction_test - test_set_targets\n",
    "# print(prediction_test)\n",
    "plt.plot(np.arange(len(test_set_prediction_error.tolist())),test_set_prediction_error.tolist())"
   ]
  },
  {
   "cell_type": "code",
   "execution_count": null,
   "id": "4334cb5d",
   "metadata": {},
   "outputs": [],
   "source": [
    "# In the example model trained with about 600 data, from a test set of 165 samples,\n",
    "# 159 samples are predicted with prediction error less than 10."
   ]
  },
  {
   "cell_type": "code",
   "execution_count": null,
   "id": "efc5d782",
   "metadata": {},
   "outputs": [],
   "source": [
    "#TODO: Based on the prediction error of the test set, you can try to train the neural network again by changing the hyper parameters mentioned above.\n",
    "# Also Try to add Dropout layers to the Neural network and check whether test prediction errors can be reduced further."
   ]
  },
  {
   "cell_type": "markdown",
   "id": "ffd3979d",
   "metadata": {},
   "source": [
    "# DETECTING THE OBJECT AT TESTING PHASE"
   ]
  },
  {
   "cell_type": "code",
   "execution_count": 242,
   "id": "00fdb31b",
   "metadata": {},
   "outputs": [],
   "source": [
    "A = 130\n",
    "T = 100"
   ]
  },
  {
   "cell_type": "code",
   "execution_count": 243,
   "id": "8ceeb74b",
   "metadata": {},
   "outputs": [
    {
     "data": {
      "text/plain": [
       "0"
      ]
     },
     "execution_count": 243,
     "metadata": {},
     "output_type": "execute_result"
    }
   ],
   "source": [
    "api.setPos(-90,90,moduleID)"
   ]
  },
  {
   "cell_type": "code",
   "execution_count": 33,
   "id": "2cc71478",
   "metadata": {},
   "outputs": [
    {
     "name": "stdout",
     "output_type": "stream",
     "text": [
      "None None\n"
     ]
    }
   ],
   "source": [
    "#TODO: Detect the target object and obtain the coordinates of the object in the image\n",
    "cam = ct.prepare_camera()\n",
    "img = ct.capture_image(cam)\n",
    "# ct.show_camera(cam, low_green, high_green)\n",
    "x,y = ct.locate(img, low_green, high_green)\n",
    "print(x,y)\n",
    "target_x = x\n",
    "target_y = y\n",
    "# print(\"target_x = \",target_x)\n",
    "# print(\"target_y = \",target_y)"
   ]
  },
  {
   "cell_type": "code",
   "execution_count": 268,
   "id": "ea96341c",
   "metadata": {},
   "outputs": [
    {
     "data": {
      "text/plain": [
       "0"
      ]
     },
     "execution_count": 268,
     "metadata": {},
     "output_type": "execute_result"
    }
   ],
   "source": [
    "api.setPos(-90,0,moduleID)"
   ]
  },
  {
   "cell_type": "code",
   "execution_count": 273,
   "id": "df8744fd",
   "metadata": {},
   "outputs": [
    {
     "name": "stdout",
     "output_type": "stream",
     "text": [
      "0 376 522\n",
      "1 470 482\n",
      "2 473 504\n",
      "3 475 522\n",
      "4 475 516\n",
      "5 475 430\n",
      "6 464 436\n",
      "7 440 422\n",
      "8 432 366\n",
      "9 396 278\n",
      "10 286 270\n",
      "11 276 280\n",
      "12 294 284\n",
      "13 288 282\n",
      "14 278 294\n",
      "15 294 296\n",
      "16 302 294\n",
      "17 294 296\n",
      "18 304 294\n",
      "19 296 456\n",
      "20 442 456\n",
      "21 450 452\n",
      "22 454 452\n",
      "23 454 454\n",
      "24 448 454\n",
      "25 460 456\n",
      "26 456 454\n",
      "27 454 456\n",
      "28 458 176\n",
      "29 312 170\n",
      "30 160 174\n",
      "31 173 176\n",
      "32 185 176\n",
      "33 179 178\n",
      "34 176 178\n",
      "35 185 182\n",
      "36 178 301\n",
      "37 318 398\n",
      "38 384 426\n",
      "39 433 458\n",
      "40 452 472\n",
      "41 459 394\n",
      "42 432 398\n",
      "43 394 320\n",
      "44 344 286\n",
      "45 294 258\n",
      "46 230 202\n",
      "47 178 162\n",
      "48 176 232\n",
      "49 248 286\n"
     ]
    },
    {
     "data": {
      "image/png": "[encoded data removed]",
      "text/plain": [
       "<Figure size 640x480 with 1 Axes>"
      ]
     },
     "metadata": {},
     "output_type": "display_data"
    }
   ],
   "source": [
    "#Here we implement the control loop which is having Neural Network as the controller.\n",
    "#In this case we donot integrate CMAC to the control loop\n",
    "def ControlLoopWithNNWithoutCMAC(target__x_coordinate,target__y_coordinate):\n",
    "\n",
    "\n",
    "    x_ref_vec = []\n",
    "    x_act_vec = []\n",
    "\n",
    "    number_of_iterations_for_convergence = 0\n",
    "    #TODO:Intialize your best neural network model and load the saved paramemeters\n",
    "    NN_model = NN(n_feature=2,n_hidden1=100,n_hidden2=100, n_output=1)\n",
    "    NN_model.load_state_dict(torch.load('best_nn_model.pth'))\n",
    "    \n",
    "    #Here we loop for 50 iterations assuming that \n",
    "    # the controller should achieve the desired target within atmost 50 iterations\n",
    "    for i in range(50):\n",
    "        cam = ct.prepare_camera()\n",
    "        img = ct.capture_image(cam)\n",
    "        x,y = ct.locate(img,low_green, high_green)\n",
    "\n",
    "        cam_red = ct.prepare_camera()\n",
    "        img_red = ct.capture_image(cam)\n",
    "        x_red,y_red = ct.locate(img,low_red, high_red)\n",
    "\n",
    "        # print(x,y)\n",
    "\n",
    "        # x_ref = A * np.sin(2*np.pi * i/T) + 300\n",
    "        # x_ref = 400\n",
    "        x_ref = x_red\n",
    "        y_ref = y\n",
    "        \n",
    "\n",
    "        x_ref_vec.append(x_ref)\n",
    "        x_act_vec.append(x)\n",
    "\n",
    "        print(i, x, x_ref)\n",
    "\n",
    "        x_ref = float(x_ref)\n",
    "        y_ref = float(y_ref)\n",
    "\n",
    "        robot_x_coord_in_image = x\n",
    "        robot_y_coord_in_image = y\n",
    "        x_coord_error = x_ref - robot_x_coord_in_image;\n",
    "        y_coord_error = y_ref - robot_y_coord_in_image;\n",
    "\n",
    "        #Here if the errors are less than twenty pixels we assume robot reaches the target. \n",
    "        # However you can choose any reasonable threshold value instead of 20.\n",
    "        # if (np.abs(x_coord_error) < (1+x_prev*1.02) and np.abs(y_coord_error) < (1+y_coord_error*1.02)):\n",
    "        #     print(\"number of iterations for convergence = \", number_of_iterations_for_convergence)\n",
    "        #     break\n",
    "\n",
    "        xy_input_nn_model = [x_coord_error, y_coord_error]\n",
    "        # print(xy_input_nn_model)\n",
    "        \n",
    "        #TODO: normalize the input to the Neural network model using meaning and variance of the training set inputs.\n",
    "        normalize_xy_input_nn_model = (torch.tensor(xy_input_nn_model) - mean_of_train_input)/std_of_the_train_input\n",
    "\n",
    "        prediction_for_Y_pos_increment = NN_model(normalize_xy_input_nn_model)\n",
    "\n",
    "        #TODO: Get the current Y (angular) position/angle of the robot. you can use the api.getPos function of fable\n",
    "        robot_current_Y_pos = api.getPos(1,moduleID)\n",
    "        #Next Y angular position of the robot will be robot_Y_pos + prediction_for_Y_pos_increment\n",
    "        robot_next_Y_pos = robot_current_Y_pos + prediction_for_Y_pos_increment\n",
    "        # print(robot_next_Y_pos)\n",
    "        #TODO: Set the next position of the robot to (-90,robot_next_Y_pos) using the setPos function of the fable.\n",
    "\n",
    "        if robot_next_Y_pos > 90:\n",
    "            robot_next_Y_pos = 90\n",
    "        elif robot_next_Y_pos < -90:\n",
    "            robot_next_Y_pos = -90\n",
    "\n",
    "        api.setPos(-90,robot_next_Y_pos,moduleID)\n",
    "        api.sleep(1)\n",
    "        number_of_iterations_for_convergence = number_of_iterations_for_convergence + 1\n",
    "\n",
    "    return [x_ref_vec,x_act_vec]\n",
    "\n",
    "#TODO: Call the control loop for a target which is detected. Record the number of iterations that the control loop spent for convergence.\n",
    "[ref_ANN, act_ANN] = ControlLoopWithNNWithoutCMAC(target_x,target_y)\n",
    "#TODO: change your target location and try again. You may change the target 4-5 times and check how the control loop work.\n",
    "#Record the number of iterations that the control loop spent for convergence.\n",
    "plt.plot(np.arange(len(ref_ANN)),ref_ANN)\n",
    "plt.plot(np.arange(len(act_ANN)),act_ANN)\n",
    "plt.show()"
   ]
  },
  {
   "cell_type": "code",
   "execution_count": 265,
   "id": "e9ec2072",
   "metadata": {},
   "outputs": [
    {
     "data": {
      "text/plain": [
       "0"
      ]
     },
     "execution_count": 265,
     "metadata": {},
     "output_type": "execute_result"
    }
   ],
   "source": [
    "api.setPos(-90,90,moduleID)"
   ]
  },
  {
   "cell_type": "code",
   "execution_count": 274,
   "id": "5cdd72be",
   "metadata": {},
   "outputs": [
    {
     "name": "stdout",
     "output_type": "stream",
     "text": [
      "0 324 592.0\n",
      "angle cmac: 0.04825266023189323\n",
      "1 464 474.0\n",
      "angle cmac: -3.6670713292628454\n",
      "2 474 464.0\n",
      "angle cmac: -4.421807418213065\n",
      "3 474 482.0\n",
      "angle cmac: -3.893121553235603\n",
      "4 475 472.0\n",
      "angle cmac: -5.083942357230243\n",
      "5 475 432.0\n",
      "angle cmac: -4.375232657215679\n",
      "6 466 402.0\n",
      "angle cmac: -1.5327178868801823\n",
      "7 448 408.0\n",
      "angle cmac: 0.8748097732352711\n",
      "8 416 406.0\n",
      "angle cmac: 3.147844978022422\n",
      "9 404 406.0\n",
      "angle cmac: 3.490811856200668\n",
      "10 404 406.0\n",
      "angle cmac: 2.9718288902976306\n",
      "11 402 414.0\n",
      "angle cmac: 2.2493633352140847\n",
      "12 408 420.0\n",
      "angle cmac: 1.3677230086305707\n",
      "13 416 424.0\n",
      "angle cmac: 0.5783948563824728\n",
      "14 434 424.0\n",
      "angle cmac: -0.422292269382202\n",
      "15 432 424.0\n",
      "angle cmac: 0.1279290907365862\n",
      "16 425 424.0\n",
      "angle cmac: 0.5661980834329858\n",
      "17 420 404.0\n",
      "angle cmac: 1.4104147570306864\n",
      "18 410 198.0\n",
      "angle cmac: 2.2885970205055397\n",
      "19 224 198.0\n",
      "angle cmac: 5.753259874864433\n",
      "20 162 202.0\n",
      "angle cmac: 5.910572640655641\n",
      "21 204 206.0\n",
      "angle cmac: 4.425887638890209\n",
      "22 202 208.0\n",
      "angle cmac: 3.8241323674295638\n",
      "23 216 218.0\n",
      "angle cmac: 3.2346987565079663\n",
      "24 216 218.0\n",
      "angle cmac: 2.720880987229567\n",
      "25 216 522.0\n",
      "angle cmac: -2.7372765411728004\n",
      "26 422 536.0\n",
      "angle cmac: -2.3149561880172715\n",
      "27 474 534.0\n",
      "angle cmac: -3.719077646587676\n",
      "28 476 500.0\n",
      "angle cmac: -5.705315728394918\n",
      "29 476 500.0\n",
      "angle cmac: -6.73052236009381\n",
      "30 476 492.0\n",
      "angle cmac: -7.665280325367157\n",
      "31 476 464.0\n",
      "angle cmac: -7.694255764795823\n",
      "32 476 468.0\n",
      "angle cmac: -7.30834551772586\n",
      "33 476 460.0\n",
      "angle cmac: -6.490057812372445\n",
      "34 476 448.0\n",
      "angle cmac: -5.422129730115371\n",
      "35 468 452.0\n",
      "angle cmac: -3.420358860278632\n",
      "36 468 452.0\n",
      "angle cmac: -2.87129312353668\n",
      "37 468 408.0\n",
      "angle cmac: 0.3221500621872959\n",
      "38 448 412.0\n",
      "angle cmac: 1.9758245131282894\n",
      "39 412 414.0\n",
      "angle cmac: 2.7205604372040977\n",
      "40 414 382.0\n",
      "angle cmac: 4.836044370399397\n",
      "41 352 354.0\n",
      "angle cmac: 5.684679986337943\n",
      "42 352 298.0\n",
      "angle cmac: 8.836687398281274\n",
      "43 268 244.0\n",
      "angle cmac: 7.05457593931358\n",
      "44 192 194.0\n",
      "angle cmac: 4.399271172882572\n",
      "45 194 148.0\n",
      "angle cmac: 3.8974422381243667\n",
      "46 146 118.0\n",
      "angle cmac: 3.6950085945849063\n",
      "47 128 104.0\n",
      "angle cmac: 4.680810139913406\n",
      "48 126 162.0\n",
      "angle cmac: 6.728260796908646\n",
      "49 128 200.0\n",
      "angle cmac: 3.743263067235699\n"
     ]
    },
    {
     "data": {
      "image/png": "[encoded data removed]",
      "text/plain": [
       "<Figure size 640x480 with 1 Axes>"
      ]
     },
     "metadata": {},
     "output_type": "display_data"
    }
   ],
   "source": [
    "#Now integrate the CMAC to the previous control loop which had only the Neural Network. \n",
    "#The implementation of the CMAC can be found in code given for second week exercises.\n",
    "#TODO: Implement the control loop with both neural network and CMAC. \n",
    "def ControlLoopWithBothNNandCMAC(target_x, target_y, iter_num):\n",
    "    \n",
    "    # api.setPos(-90,0,moduleID)\n",
    "    target_x_coord = target_x\n",
    "    target_y_coord = target_y\n",
    "\n",
    "    x_ref_vec = []\n",
    "    x_act_vec = []\n",
    "\n",
    "    number_of_iterations_for_convergence = 0\n",
    "    max_iter = iter_num\n",
    "    #TODO:Intialize your best neural network model and load the saved paramemeters\n",
    "    NN_model = NN(n_feature=2,n_hidden1=100,n_hidden2=100, n_output=1)\n",
    "    NN_model.load_state_dict(torch.load('best_nn_model.pth'))\n",
    "\n",
    "    ## TODO: CMAC initialization\n",
    "    n_rfs = 3\n",
    "    beta = 0.1\n",
    "\n",
    "    xmin = [152,152]\n",
    "    xmax = [480, 480]\n",
    "\n",
    "    c = CMAC(n_rfs, xmin, xmax, beta)\n",
    "\n",
    "    ## Simulation loop\n",
    "    for i in range(max_iter):\n",
    "       \n",
    "        cam = ct.prepare_camera()\n",
    "        img = ct.capture_image(cam)\n",
    "        x,y = ct.locate(img,low_green, high_green)\n",
    "\n",
    "        cam_red = ct.prepare_camera()\n",
    "        img_red = ct.capture_image(cam)\n",
    "        x_red,y_red = ct.locate(img,low_red, high_red)\n",
    "\n",
    "        # x_ref = A * np.sin(2*np.pi * i/T) + 300\n",
    "        # x_ref = 400\n",
    "        x_ref = x_red\n",
    "        y_ref = y\n",
    "\n",
    "        x_ref = float(x_ref)\n",
    "        y_ref = float(y_ref)\n",
    "\n",
    "        print(i, x, x_ref)\n",
    "\n",
    "        x_ref_vec.append(x_ref)\n",
    "        x_act_vec.append(x)\n",
    "\n",
    "        # print(x,y)\n",
    "        robot_x_coord_in_image = x\n",
    "        robot_y_coord_in_image = y\n",
    "        x_coord_error = x_ref - robot_x_coord_in_image;\n",
    "        y_coord_error = y_ref - robot_y_coord_in_image;\n",
    "        \n",
    "        ## TODO: Implement the CMAC controller into the loop\n",
    "        x_cmac = [x_ref ,robot_x_coord_in_image]\n",
    "        angle_cmac = c.predict(x_cmac)\n",
    "\n",
    "        # print(x_cmac)        \n",
    "    \n",
    "        #Here if the errors are less than twenty pixels we assume robot reaches the target. \n",
    "        # However you can choose any reasonable threshold value instead of 20.\n",
    "        # if (np.abs(x_coord_error) < (1+x_prev*1.02) and np.abs(y_coord_error) < (1+y_coord_error*1.02)):\n",
    "        #     print(\"number of iterations for convergence = \", number_of_iterations_for_convergence)\n",
    "        #     break\n",
    "        \n",
    "        xy_input_nn_model = [x_coord_error,y_coord_error]\n",
    "       \n",
    "        #TODO: normalize the input to the Neural network model using meaning and variance of the training set inputs.\n",
    "        normalize_xy_input_nn_model = (torch.tensor(xy_input_nn_model) - mean_of_train_input)/std_of_the_train_input\n",
    "    \n",
    "        prediction_for_Y_pos_increment = NN_model(normalize_xy_input_nn_model)\n",
    "        # print(prediction_for_Y_pos_increment)\n",
    "        #TODO: Get the current Y (angular) position/angle of the robot. you can use the api.getPos function of fable\n",
    "        robot_current_Y_pos = api.getPos(1,moduleID)\n",
    "        #Next Y angular position of the robot will be robot_Y_pos + prediction_for_Y_pos_increment\n",
    "        robot_next_Y_pos = robot_current_Y_pos + prediction_for_Y_pos_increment\n",
    "        \n",
    "        c.learn(prediction_for_Y_pos_increment.detach().numpy())\n",
    "        print(\"angle cmac:\", angle_cmac)\n",
    "        robot_nn_and_cmac = robot_next_Y_pos + angle_cmac\n",
    "\n",
    "        #TODO: Set the next position of the robot to (-90,robot_next_Y_pos) using the setPos function of the fable.\n",
    "        if robot_nn_and_cmac > 90:\n",
    "            robot_nn_and_cmac = 90\n",
    "        elif robot_nn_and_cmac < -90:\n",
    "            robot_nn_and_cmac = -90\n",
    "            \n",
    "        api.setPos(-90,robot_nn_and_cmac,moduleID)\n",
    "        api.sleep(1)\n",
    "        number_of_iterations_for_convergence = number_of_iterations_for_convergence + 1\n",
    "\n",
    "    return [x_ref_vec,x_act_vec]\n",
    "\n",
    "[ref_CMAC,act_CMAC] = ControlLoopWithBothNNandCMAC(0,0, 50)\n",
    "plt.plot(np.arange(len(ref_CMAC)),ref_CMAC)\n",
    "plt.plot(np.arange(len(act_CMAC)),act_CMAC)\n",
    "plt.show()"
   ]
  },
  {
   "cell_type": "code",
   "execution_count": 277,
   "id": "feea9f58",
   "metadata": {},
   "outputs": [
    {
     "data": {
      "text/plain": [
       "0"
      ]
     },
     "execution_count": 277,
     "metadata": {},
     "output_type": "execute_result"
    }
   ],
   "source": [
    "api.setPos(-90,90,moduleID)"
   ]
  },
  {
   "cell_type": "code",
   "execution_count": 280,
   "id": "e3b94b8f",
   "metadata": {},
   "outputs": [
    {
     "name": "stdout",
     "output_type": "stream",
     "text": [
      "0 398 580.0\n",
      "0.0\n",
      "1 478 564.0\n",
      "0.0\n",
      "2 476 554.0\n",
      "0.0\n",
      "3 476 548.0\n",
      "0.0\n",
      "4 478 542.0\n",
      "0.06705632772315866\n",
      "5 478 528.0\n",
      "0.3576848833804137\n",
      "6 478 522.0\n",
      "1.0233042981975218\n",
      "7 478 454.0\n",
      "2.303826649382437\n",
      "8 474 408.0\n",
      "2.1433425131749857\n",
      "9 459 404.0\n",
      "-1.3038725353121516\n",
      "10 432 398.0\n",
      "-6.616287020638845\n",
      "11 392 396.0\n",
      "-11.813129069601423\n",
      "12 384 354.0\n",
      "-12.408357582551744\n",
      "13 338 234.0\n",
      "-18.998675262865234\n",
      "14 198 238.0\n",
      "-42.70938543123932\n",
      "15 192 250.0\n",
      "-35.11377742792525\n",
      "16 214 250.0\n",
      "-20.787735050911657\n",
      "17 234 248.0\n",
      "-11.51394935915108\n",
      "18 251 253.0\n",
      "-7.872035748873684\n",
      "19 242 230.0\n",
      "-7.45670956409198\n",
      "20 234 88.0\n",
      "-11.180794055462894\n",
      "21 128 86.0\n",
      "-56.58438794368542\n",
      "22 125 86.0\n",
      "-70.93284670150706\n",
      "23 128 94.0\n",
      "-82.37648806933336\n",
      "24 128 96.0\n",
      "-90.19709459615545\n",
      "25 128 242.0\n",
      "-94.44489094318908\n",
      "26 125 278.0\n",
      "-58.9630683452527\n",
      "27 130 282.0\n",
      "-21.398653407095974\n",
      "28 226 280.0\n",
      "5.493953819655535\n",
      "29 304 282.0\n",
      "11.951210803317935\n",
      "30 296 282.0\n",
      "8.911609852856103\n",
      "31 288 282.0\n",
      "7.238771531428663\n",
      "32 290 288.0\n",
      "6.425425241723975\n",
      "33 308 286.0\n",
      "5.9842010805546675\n",
      "34 300 288.0\n",
      "4.20564613042318\n",
      "35 292 288.0\n",
      "3.3135972520462627\n",
      "36 282 290.0\n",
      "2.9683926625964334\n",
      "37 302 292.0\n",
      "3.235157218094823\n",
      "38 292 292.0\n",
      "2.655089941825255\n",
      "39 306 294.0\n",
      "2.5462615595347584\n",
      "40 298 294.0\n",
      "2.042335323194394\n",
      "41 290 318.0\n",
      "1.850475635026927\n",
      "42 358 438.0\n",
      "2.457764982400829\n",
      "43 418 458.0\n",
      "3.9983027505135995\n",
      "44 458 514.0\n",
      "4.601984810366577\n",
      "45 476 510.0\n",
      "5.605078525363037\n",
      "46 475 512.0\n",
      "6.435471668231744\n",
      "47 475 496.0\n",
      "7.645706103236975\n",
      "48 476 398.0\n",
      "8.907523021922215\n",
      "49 464 358.0\n",
      "7.448271507299168\n"
     ]
    },
    {
     "data": {
      "image/png": "[encoded data removed]",
      "text/plain": [
       "<Figure size 640x480 with 1 Axes>"
      ]
     },
     "metadata": {},
     "output_type": "display_data"
    }
   ],
   "source": [
    "from adaptive_filter.cerebellum import AdaptiveFilterCerebellum\n",
    "\n",
    "def NNwithAF(target_x, target_y, iter_num):\n",
    "\n",
    "    target_x_coord = target_x\n",
    "    target_y_coord = target_y\n",
    "    number_of_iterations_for_convergence = 0\n",
    "    max_iter = iter_num\n",
    "    #TODO:Intialize your best neural network model and load the saved paramemeters\n",
    "    NN_model = NN(n_feature=2,n_hidden1=100,n_hidden2=100, n_output=1)\n",
    "    NN_model.load_state_dict(torch.load('best_nn_model.pth'))\n",
    "\n",
    "    x_ref_vec = []\n",
    "    x_act_vec = []\n",
    "\n",
    "    ## TODO: AF initialization\n",
    "    Ts = 1e-4\n",
    "    n_inputs = 1\n",
    "    n_outputs = 1\n",
    "    n_bases = 50\n",
    "    beta = 50\n",
    "\n",
    "    af = AdaptiveFilterCerebellum(Ts, n_inputs, n_outputs, n_bases, beta)\n",
    "\n",
    "    robot_input = 0\n",
    "\n",
    "    ## Simulation loop\n",
    "    for i in range(max_iter):\n",
    "       \n",
    "        cam = ct.prepare_camera()\n",
    "        img = ct.capture_image(cam)\n",
    "        x,y = ct.locate(img,low_green, high_green)\n",
    "\n",
    "        cam_red = ct.prepare_camera()\n",
    "        img_red = ct.capture_image(cam)\n",
    "        x_red,y_red = ct.locate(img,low_red, high_red)\n",
    "\n",
    "        # x_ref = A * np.sin(2*np.pi * i/T) + 300\n",
    "        # x_ref = 400\n",
    "        x_ref = x_red\n",
    "        y_ref = y\n",
    "\n",
    "        x_ref = float(x_ref)\n",
    "        y_ref = float(y_ref)\n",
    "\n",
    "        print(i, x, x_ref)\n",
    "\n",
    "        x_ref_vec.append(x_ref)\n",
    "        x_act_vec.append(x)\n",
    "\n",
    "        # print(x,y)\n",
    "        robot_x_coord_in_image = x\n",
    "        robot_y_coord_in_image = y\n",
    "        x_coord_error = x_ref - robot_x_coord_in_image;\n",
    "        y_coord_error = y_ref - robot_y_coord_in_image;\n",
    "        \n",
    "        ## TODO: Implement the CMAC controller into the loop\n",
    "       \n",
    "        af_out = af.step(robot_input, x_coord_error)\n",
    "        print(af_out)\n",
    "        x_coord_error = x_coord_error + af_out\n",
    "        \n",
    "        #Here if the errors are less than twenty pixels we assume robot reaches the target. \n",
    "        # However you can choose any reasonable threshold value instead of 20.\n",
    "        # if (np.abs(x_coord_error) < (1+x_prev*1.02) and np.abs(y_coord_error) < (1+y_coord_error*1.02)):\n",
    "        #     print(\"number of iterations for convergence = \", number_of_iterations_for_convergence)\n",
    "        #     break\n",
    "        \n",
    "        xy_input_nn_model = [x_coord_error,y_coord_error]\n",
    "    \n",
    "        #TODO: normalize the input to the Neural network model using meaning and variance of the training set inputs.\n",
    "        normalize_xy_input_nn_model = (torch.tensor(xy_input_nn_model) - mean_of_train_input)/std_of_the_train_input\n",
    "   \n",
    "        prediction_for_Y_pos_increment = NN_model(normalize_xy_input_nn_model)\n",
    "        # print(prediction_for_Y_pos_increment)\n",
    "        #TODO: Get the current Y (angular) position/angle of the robot. you can use the api.getPos function of fable\n",
    "        robot_current_Y_pos = api.getPos(1,moduleID)\n",
    "        #Next Y angular position of the robot will be robot_Y_pos + prediction_for_Y_pos_increment\n",
    "        robot_next_Y_pos = robot_current_Y_pos + prediction_for_Y_pos_increment\n",
    "       \n",
    "        robot_nn_and_af = robot_next_Y_pos\n",
    "        robot_input = prediction_for_Y_pos_increment.detach().numpy()\n",
    "\n",
    "        #TODO: Set the next position of the robot to (-90,robot_next_Y_pos) using the setPos function of the fable.\n",
    "\n",
    "        if robot_nn_and_af > 90:\n",
    "            robot_nn_and_af = 90\n",
    "        elif robot_nn_and_af < -90:\n",
    "            robot_nn_and_af = -90\n",
    "\n",
    "        api.setPos(-90,robot_nn_and_af,moduleID)\n",
    "        api.sleep(0.7)\n",
    "        number_of_iterations_for_convergence = number_of_iterations_for_convergence + 1\n",
    "        \n",
    "\n",
    "    return [x_ref_vec,x_act_vec]\n",
    "\n",
    "[ref_AF,act_AF] = NNwithAF(0,0, 50)\n",
    "plt.plot(np.arange(len(ref_AF)),ref_AF)\n",
    "plt.plot(np.arange(len(act_AF)),act_AF)\n",
    "plt.show()"
   ]
  },
  {
   "cell_type": "code",
   "execution_count": 281,
   "id": "5d74f261",
   "metadata": {},
   "outputs": [
    {
     "data": {
      "image/png": "[encoded data removed]",
      "text/plain": [
       "<Figure size 640x480 with 1 Axes>"
      ]
     },
     "metadata": {},
     "output_type": "display_data"
    }
   ],
   "source": [
    "plt.plot(np.arange(len(ref_ANN)),ref_ANN)\n",
    "plt.plot(np.arange(len(act_ANN)),act_ANN)\n",
    "plt.plot(np.arange(len(ref_CMAC)),ref_CMAC)\n",
    "plt.plot(np.arange(len(act_CMAC)),act_CMAC)\n",
    "plt.plot(np.arange(len(ref_AF)),ref_AF)\n",
    "plt.plot(np.arange(len(act_AF)),act_AF)\n",
    "plt.legend([\"ref_ANN\",\"act_ANN\",\"ref_CMAC\",\"act_CMAC\",\"ref_AF\",\"act_AF\"])\n",
    "plt.show()"
   ]
  },
  {
   "cell_type": "code",
   "execution_count": null,
   "id": "291f6aff",
   "metadata": {},
   "outputs": [],
   "source": [
    "#TODO: Compare the number of iteration it takes for convergence in the control loop with \n",
    "# neural network only and with both CMAC and neural network."
   ]
  }
 ],
 "metadata": {
  "interpreter": {
   "hash": "97b1ca7657afa4cca8b89ccd445cd43dbad4b1535d3709ba624a8852d37759e0"
  },
  "kernelspec": {
   "display_name": "Python [conda env:biocontrol] *",
   "language": "python",
   "name": "python3"
  },
  "language_info": {
   "codemirror_mode": {
    "name": "ipython",
    "version": 3
   },
   "file_extension": ".py",
   "mimetype": "text/x-python",
   "name": "python",
   "nbconvert_exporter": "python",
   "pygments_lexer": "ipython3",
   "version": "3.11.5"
  }
 },
 "nbformat": 4,
 "nbformat_minor": 5
}
